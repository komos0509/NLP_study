{
 "cells": [
  {
   "cell_type": "markdown",
   "id": "a243bf58",
   "metadata": {},
   "source": [
    "이 내용들은 전부 딥 러닝을 이용한 자연어 처리 입문 (Won Joon Yoo) [링크](https://wikidocs.net/book/2155)에서 참고했습니다.\n",
    "\n",
    "## 03. 언어 모델(Language Model)\n",
    "\n",
    "언어 모델이란 단어 시퀀스(문장)에 확률을 할당하는 모델을 말합니다. 어떤 문장들이 있을 때, 기계가 이 문장은 적절해! 이 문장은 말이 안돼! 라고 사람처럼 정확히 판단할 수 있다면, 기계의 자연어 처리의 성능이 뛰어나다고 말할 수 있습니다.\n",
    "\n",
    "이번 챕터에서는 통계를 기반한 전통적인 언어 모델(Statistical Language Model, SLM)에 대해서 학습합니다. 통계에 기반한 언어 모델은 우리가 실제 사용하는 자연어를 근사하기에는 많은 한계가 있었고, 요즘 들어 인공 신경망이 그러한 한계를 많이 해결해주면서 통계 기반 언어 모델은 많이 사용 용도가 줄었습니다. 하지만 그럼에도 통계 기반 방법론에 대한 이해는 언어 모델에 대한 전체적인 시야를 갖는 일에 도움이 됩니다."
   ]
  },
  {
   "cell_type": "markdown",
   "id": "4409f112",
   "metadata": {},
   "source": [
    "### 1) 언어 모델이란?\n",
    "\n",
    "언어 모델은 언어라는 현상을 모델링하고자 단어 시퀀스에 확률을 할당하는 모델입니다.\n",
    "\n",
    "언어 모델을 만드는 방법은 크게는 `통계를 이용한 방법`과 `인공신경망을 이용한 방법`으로 구분할 수 있습니다. 최근에는 통계를 이용한 방법보다는 인공 신경망을 이용한 방법이 더 좋은 성능을 보여주고 있습니다. 최근 핫한 자연어 처리의 기술인 GPT나 BERT 또한 인경 신경망 언어 모델의 개념을 사용하여 만들어졌습니다. 이번 챕터에서는 언어 모델의 개념과 언어 모델의 전통적 접근 방식인 통계적 언어 모델에 대해서 배웁니다.\n",
    "\n",
    "#### 1. 언어 모델(Language Model)\n",
    "\n"
   ]
  },
  {
   "cell_type": "code",
   "execution_count": null,
   "id": "6ffbec69",
   "metadata": {},
   "outputs": [],
   "source": []
  }
 ],
 "metadata": {
  "kernelspec": {
   "display_name": "Python 3 (ipykernel)",
   "language": "python",
   "name": "python3"
  },
  "language_info": {
   "codemirror_mode": {
    "name": "ipython",
    "version": 3
   },
   "file_extension": ".py",
   "mimetype": "text/x-python",
   "name": "python",
   "nbconvert_exporter": "python",
   "pygments_lexer": "ipython3",
   "version": "3.9.12"
  }
 },
 "nbformat": 4,
 "nbformat_minor": 5
}
