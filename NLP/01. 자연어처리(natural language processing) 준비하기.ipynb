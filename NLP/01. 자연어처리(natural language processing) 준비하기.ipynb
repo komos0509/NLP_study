{
 "cells": [
  {
   "cell_type": "markdown",
<<<<<<< Updated upstream:NLP/01. 자연어처리(natural language processing) 준비하기.ipynb
   "id": "22f36cbc",
=======
   "id": "904225e1",
>>>>>>> Stashed changes:NLP/NLP Natural Language Processing 공부.ipynb
   "metadata": {},
   "source": [
    "이 내용들은 전부 딥 러닝을 이용한 자연어 처리 입문 (Won Joon Yoo)[링크](https://wikidocs.net/book/2155)에서 참고했습니다.\n",
    "\n",
    "## 01. 자연어처리(natural language processing) 준비하기\n",
    "\n",
    "자연어란 우리가 일상 생활에서 사용하는 언어를 말합니다. 자연어 처리란 이러한 자연어의 의미를 분석하여 컴퓨터가 처리할 수 있도록 하는 일을 말합니다.\n",
    "\n",
    "자연어 처리는 음성 인식, 내용 요약, 번역, 사용자 감성 분석, 텍스트 분류 작업(스팸 메일 분류, 뉴스 기사 카테고리 분류), 질의 응답 시스템, 챗봇과 같은 곳에서 사용되는 분야입니다. \n",
    "\n",
    "여기서는 자연어 처리에 필요한 전처리 방법, 딥 러닝 이전 주류로 사용되었던 통계 기반의 언어 모델, 그리고 자연어 처리의 비약적인 성능을 이루어낸 딥 러닝을 이용한 저연어 처리에 대한 전반적인 지식을 다룹니다.  \n",
    "\n",
    "이번 챕터는 자연어 처리 공부를 시작하기에 앞서 기본적인 셋팅 방법과 앞으로 공부하게 될 머신 러닝에 대한 전체적인 워크플로우에 대해서 다룹니다.\n",
    "\n",
    "### 1) 아나콘다(Anaconda)와 코랩(Colab)\n",
    "\n",
    "머신 러닝 실습을 위해서는 많은 패키지가 필요합니다. 이를 일일히 설치하는 것보다는 필요한 패키지들을 모아놓은 파이썬 배포판 `아나콘다`를 설치하는 것을 권장합니다. 여기서는 윈도우 환경을 기준으로 두고 아나콘다를 설치하는 방법과 인터넷을 통해 편하게 사용할 수 있는 파이썬 실습 환경인 구글의 `코랩`을 소개합니다.\n",
    "\n",
    "#### 1. 아나콘다 설치 [설치 링크](https://www.anaconda.com/distribution/)\n",
    "```python\n",
    "conda update -n base conda\n",
    "conda update --all\n",
    "```\n",
    "아나콘다 프롬프트에 이 커맨드를 입력하여 아나콘다 파이썬 패키지를 전부 최신 버젼으로 업데이트 합니다.  \n",
    "\n",
    "#### 2. 구글의 코랩\n",
    "인터넷만 된다면 파이썬을 실습할 수 있는 구글의 코랩이 있습니다. 구글의 Colab은 뒤에서 설명하게 될 `주피터 노트북`과 매우 유사한 실습 환경을 제공합니다.\n",
    "\n",
    "### 2) 필요 프레임워크와 라이브러리 \n",
    "\n",
    "아나콘다에 포함되어있지 않은 tensorflow, keras, gensim과 같은 패키지만을 별도로 pip을 통해 설치합니다.\n",
    "\n",
    "#### 1. 텐서플로우(Tensorflow)\n",
    "\n",
    "텐서플로우는 구글이 2015년에 공개한 머신 러닝 오픈소스 라이브러리입니다. <u>머신 러닝과 딥 러닝을 직관적이고 손쉽게 할 수 있도록 설계되었습니다.</u> \n",
    "\n",
    "아나콘다 프롬프트 또는 명령 프롬프트에서 아래의 코드를 이용해 설치할 수 있습니다. \n",
    "```python\n",
    "pip install tensorflow\n",
    "```\n"
   ]
  },
  {
   "cell_type": "code",
   "execution_count": 1,
<<<<<<< Updated upstream:NLP/01. 자연어처리(natural language processing) 준비하기.ipynb
   "id": "f0d52995",
=======
   "id": "d29267a8",
>>>>>>> Stashed changes:NLP/NLP Natural Language Processing 공부.ipynb
   "metadata": {},
   "outputs": [
    {
     "data": {
      "text/plain": [
       "'2.9.1'"
      ]
     },
     "execution_count": 1,
     "metadata": {},
     "output_type": "execute_result"
    }
   ],
   "source": [
    "import tensorflow as tf\n",
    "tf.__version__"
   ]
  },
  {
   "cell_type": "markdown",
<<<<<<< Updated upstream:NLP/01. 자연어처리(natural language processing) 준비하기.ipynb
   "id": "3c0b803b",
=======
   "id": "c6228b0e",
>>>>>>> Stashed changes:NLP/NLP Natural Language Processing 공부.ipynb
   "metadata": {},
   "source": [
    "#### 2. 케라스(Keras)  \n",
    "\n",
    "케라스는 딥 러닝 프렝미워크인 텐서플로우에 대한 추상화 된 API를 제공합니다. <u>케라스는 백엔드로 텐서플로우를 사용하며, 좀 더 쉽게 딥 러닝을 사용할 수 있게 해줍니다.</u> 쉽게 말해, 텐서플로우 코들르 휠씬 간단하게 작성할 수 있습니다.\n",
    "\n",
    "```python\n",
    "pip install keras\n",
    "```\n",
    "\n",
    "케라스를 설치 후에 사용할 수도 있지만, 텐서플로우에서 케라스를 사용할 수도 있습니다. 순수 케라스를 keras라고 표기한다면, 텐서플로우에서 케라스 API를 사용하는 경우는 tf.keras라고 표기합니다. 이 두가지는 실제로 문법도 많은 면에서 같습니다. 하지만 케라스 개발자인 프랑소와 숄레는 앞으로는 <u>keras 보다는 tf.keras를 사용할 것을 권장합니다.</u>"
   ]
  },
  {
   "cell_type": "code",
<<<<<<< Updated upstream:NLP/01. 자연어처리(natural language processing) 준비하기.ipynb
   "execution_count": 2,
   "id": "73c33801",
=======
   "execution_count": 3,
   "id": "fdbf3f78",
>>>>>>> Stashed changes:NLP/NLP Natural Language Processing 공부.ipynb
   "metadata": {},
   "outputs": [
    {
     "data": {
      "text/plain": [
       "'2.9.0'"
      ]
     },
     "execution_count": 2,
     "metadata": {},
     "output_type": "execute_result"
    }
   ],
   "source": [
    "import keras\n",
    "keras.__version__\n",
    "tf.keras.__version__"
   ]
  },
  {
   "cell_type": "markdown",
<<<<<<< Updated upstream:NLP/01. 자연어처리(natural language processing) 준비하기.ipynb
   "id": "2ff02492",
=======
   "id": "cb487f03",
>>>>>>> Stashed changes:NLP/NLP Natural Language Processing 공부.ipynb
   "metadata": {},
   "source": [
    "#### 3. 젠심(Gensim)\n",
    "\n",
    "<u>젠심은 머신 러닝을 사용하여 토픽 모델링과 자연어 처리 등을 수행할 수 있게 해주는 오픈 소스 라이브러리입니다.</u> 여기서도 젠심을 사용하여 Word2Vec 등 다양한 모델들을 학습해볼 것입니다.\n",
    "```python\n",
    "pip install gensim\n",
    "```"
   ]
  },
  {
   "cell_type": "code",
<<<<<<< Updated upstream:NLP/01. 자연어처리(natural language processing) 준비하기.ipynb
   "execution_count": 3,
   "id": "2a6cb0a8",
=======
   "execution_count": 4,
   "id": "5b995eb6",
>>>>>>> Stashed changes:NLP/NLP Natural Language Processing 공부.ipynb
   "metadata": {},
   "outputs": [
    {
     "data": {
      "text/plain": [
       "'4.1.2'"
      ]
     },
     "execution_count": 3,
     "metadata": {},
     "output_type": "execute_result"
    }
   ],
   "source": [
    "import gensim\n",
    "gensim.__version__"
   ]
  },
  {
   "cell_type": "markdown",
<<<<<<< Updated upstream:NLP/01. 자연어처리(natural language processing) 준비하기.ipynb
   "id": "0e534156",
=======
   "id": "74cbc20c",
>>>>>>> Stashed changes:NLP/NLP Natural Language Processing 공부.ipynb
   "metadata": {},
   "source": [
    "#### 4. 사이킷런(Scikit-learn)\n",
    "\n",
    "사이킷런은 파이썬 머신러닝 라이브러리입니다. <u>사이킷런을 통해 나이브 베이즈 분류, 서포트 벡터 머신 등 다양한 머신 러닝 모듈을 불러올 수 있습니다.</u> 또한, 사이킷런에는 머신러닝을 연습하기 위한 아이리스 데이터, 당뇨병 데이터 등 자체 데이터 또한 제공하고 있습니다.  \n",
    "자세한 자체 데이터 내용은 [여기](https://rudolf-2434.tistory.com/2)에서 확인할 수 있습니다.  \n",
    "```python\n",
    "pip install scikit-learn\n",
    "```\n"
   ]
  },
  {
   "cell_type": "code",
<<<<<<< Updated upstream:NLP/01. 자연어처리(natural language processing) 준비하기.ipynb
   "execution_count": 4,
   "id": "b1921a89",
=======
   "execution_count": 5,
   "id": "8e622eaf",
>>>>>>> Stashed changes:NLP/NLP Natural Language Processing 공부.ipynb
   "metadata": {},
   "outputs": [
    {
     "data": {
      "text/plain": [
       "'1.1.1'"
      ]
     },
     "execution_count": 4,
     "metadata": {},
     "output_type": "execute_result"
    }
   ],
   "source": [
    "import sklearn\n",
    "sklearn.__version__"
   ]
  },
  {
   "cell_type": "markdown",
<<<<<<< Updated upstream:NLP/01. 자연어처리(natural language processing) 준비하기.ipynb
   "id": "64b728a6",
=======
   "id": "ad9e3861",
>>>>>>> Stashed changes:NLP/NLP Natural Language Processing 공부.ipynb
   "metadata": {},
   "source": [
    "#### 5. 주피터 노트북(Jupyter Notebook)\n",
    "\n",
    "주피터 노트북은 웹에서 코드를 작성하고 실행할 수 있는 오픈소스 웹 어플리케이션입니다. \n",
    "```python\n",
    "pip install jupyter\n",
    "```  \n",
    "설치가 완료되었다면 프롬프트에 다음 명령어를 통해 주피터 노트북을 실행할 수 있습니다.\n",
    "```python\n",
    "jupyter notebook\n",
    "```\n",
    "\n",
    "### 3) 자연어 처리를 위한 NLTK와 KoNLPy 설치하기\n",
    "\n",
    "텍스트 전처리(Text preprocessing) 챕터에서는 전처리를 위한 이론에 대해서 학습하고, 그 이론을 바탕으로 실습을 진행합니다. 그리하여 실습에 필요한 기본적인 자연어 패키지들을 소개합니다.\n",
    "\n",
    "#### 1. NLTK와 NLTK Data 설치\n",
    "\n",
    "<u>NLTK는 자연어 처리를 위한 파이썬 패키지입니다.</u> 아나콘다를 설치하였다면 NLTK는 기본적으로 설치가 되어져 있습니다. 만약 아나콘다를 설치하지 않았다면 아래의 커맨드로 NLTK를 별도 설치할 수 있습니다.\n",
    "```python\n",
    "pip install nltk\n",
    "```"
   ]
  },
  {
   "cell_type": "code",
<<<<<<< Updated upstream:NLP/01. 자연어처리(natural language processing) 준비하기.ipynb
   "execution_count": 5,
   "id": "bed55322",
=======
   "execution_count": 6,
   "id": "612bc9fe",
>>>>>>> Stashed changes:NLP/NLP Natural Language Processing 공부.ipynb
   "metadata": {},
   "outputs": [
    {
     "data": {
      "text/plain": [
       "'3.7'"
      ]
     },
     "execution_count": 5,
     "metadata": {},
     "output_type": "execute_result"
    }
   ],
   "source": [
    "import nltk\n",
    "nltk.__version__"
   ]
  },
  {
   "cell_type": "markdown",
<<<<<<< Updated upstream:NLP/01. 자연어처리(natural language processing) 준비하기.ipynb
   "id": "695bc894",
=======
   "id": "b9c29aa0",
>>>>>>> Stashed changes:NLP/NLP Natural Language Processing 공부.ipynb
   "metadata": {},
   "source": [
    "NLTK의 기능을 제대로 사용하기 위해서는 NLTK Data라는 여러 데이터를 추가적으로 설치해야 합니다. 이를 위해서는 아나콘다 프롬프트에서 ipython을 이용하여 아래의 코드를 실행합니다.\n",
    "```python\n",
    "import nltk\n",
    "nltk.download('데이터 이름')\n",
    "```"
   ]
  },
  {
   "cell_type": "code",
<<<<<<< Updated upstream:NLP/01. 자연어처리(natural language processing) 준비하기.ipynb
   "execution_count": 6,
   "id": "7889804c",
=======
   "execution_count": 7,
   "id": "7dc1f26a",
>>>>>>> Stashed changes:NLP/NLP Natural Language Processing 공부.ipynb
   "metadata": {},
   "outputs": [
    {
     "name": "stderr",
     "output_type": "stream",
     "text": [
      "[nltk_data] Downloading package treebank to\n",
      "[nltk_data]     C:\\Users\\komos\\AppData\\Roaming\\nltk_data...\n",
      "[nltk_data]   Package treebank is already up-to-date!\n"
     ]
    },
    {
     "data": {
      "text/plain": [
       "True"
      ]
     },
     "execution_count": 6,
     "metadata": {},
     "output_type": "execute_result"
    }
   ],
   "source": [
    "nltk.download('treebank') # 아나콘다 콘솔창에서 ipython으로 다운받기"
   ]
  },
  {
   "cell_type": "markdown",
<<<<<<< Updated upstream:NLP/01. 자연어처리(natural language processing) 준비하기.ipynb
   "id": "da8deee1",
=======
   "id": "a9bef151",
>>>>>>> Stashed changes:NLP/NLP Natural Language Processing 공부.ipynb
   "metadata": {},
   "source": [
    "#### 2. KoNLPy 설치\n",
    "\n",
    "<u>KoNLPy는 한국어 자연어 처리를 위한 형태소 분석기 패키지입니다.</u> 프롬프트에서 아래 커맨드로 설치합니다.  \n",
    "```python\n",
    "pip install konlpy\n",
    "```\n"
   ]
  },
  {
   "cell_type": "code",
<<<<<<< Updated upstream:NLP/01. 자연어처리(natural language processing) 준비하기.ipynb
   "execution_count": 7,
   "id": "1aedf687",
=======
   "execution_count": 8,
   "id": "2c79819f",
>>>>>>> Stashed changes:NLP/NLP Natural Language Processing 공부.ipynb
   "metadata": {},
   "outputs": [
    {
     "data": {
      "text/plain": [
       "'0.6.0'"
      ]
     },
     "execution_count": 7,
     "metadata": {},
     "output_type": "execute_result"
    }
   ],
   "source": [
    "import konlpy\n",
    "konlpy.__version__"
   ]
  },
  {
   "cell_type": "markdown",
<<<<<<< Updated upstream:NLP/01. 자연어처리(natural language processing) 준비하기.ipynb
   "id": "d8929d9d",
=======
   "id": "13d667c4",
>>>>>>> Stashed changes:NLP/NLP Natural Language Processing 공부.ipynb
   "metadata": {},
   "source": [
    "### 4) 판다스(Pandas)와 넘파이(Numpy), 맷플롭립(Matplotlib)\n",
    "\n",
    "#### 1. Pandas\n",
    "\n",
    "Pandas는 파이썬 데이터 처리를 위한 라이브러리입니다. 파이썬을 이용한 데이터 분석과 같은 작업에서 필수 라이브러리입니다. "
   ]
  },
  {
   "cell_type": "code",
<<<<<<< Updated upstream:NLP/01. 자연어처리(natural language processing) 준비하기.ipynb
   "execution_count": 8,
   "id": "886d76ef",
=======
   "execution_count": 9,
   "id": "968f0ec6",
>>>>>>> Stashed changes:NLP/NLP Natural Language Processing 공부.ipynb
   "metadata": {},
   "outputs": [
    {
     "data": {
      "text/plain": [
       "'1.4.3'"
      ]
     },
     "execution_count": 8,
     "metadata": {},
     "output_type": "execute_result"
    }
   ],
   "source": [
    "import pandas as pd\n",
    "pd.__version__"
   ]
  },
  {
   "cell_type": "markdown",
<<<<<<< Updated upstream:NLP/01. 자연어처리(natural language processing) 준비하기.ipynb
   "id": "50ed167f",
=======
   "id": "3e1a2d45",
>>>>>>> Stashed changes:NLP/NLP Natural Language Processing 공부.ipynb
   "metadata": {},
   "source": [
    "Pandas의 경우 pd라는 명칭으로 임포트하는 것이 관례입니다.  \n",
    "\n",
    "Pandas는 총 세 가지의 데이터 구조를 사용합니다.\n",
    "\n",
    "* 시리즈(Series)\n",
    "* 데이터프레임(DataFrame)\n",
    "* 패널(Panel)\n",
    "\n",
    "이 중 데이터프레임이 가장 많이 사용됩니다.\n",
    "\n",
    "##### (1) 시리즈(Series)\n",
    "\n",
    "시리즈 클래스는 1차원 배열의 값에 각 값에 대응하는 인덱스를 부여할 수 있는 구조를 갖고 있습니다."
   ]
  },
  {
   "cell_type": "code",
   "execution_count": 10,
<<<<<<< Updated upstream:NLP/01. 자연어처리(natural language processing) 준비하기.ipynb
   "id": "7581a89a",
=======
   "id": "86fe2b67",
>>>>>>> Stashed changes:NLP/NLP Natural Language Processing 공부.ipynb
   "metadata": {},
   "outputs": [
    {
     "name": "stdout",
     "output_type": "stream",
     "text": [
      "시리즈 출력 : \n",
      "---------------\n",
      "피자    17000\n",
      "치킨    18000\n",
      "콜라     1000\n",
      "맥주     5000\n",
      "dtype: int64\n"
     ]
    }
   ],
   "source": [
    "sr = pd.Series([17000, 18000, 1000, 5000], index = ['피자', '치킨', '콜라', '맥주'])\n",
    "print('시리즈 출력 : ')\n",
    "print('-' * 15)\n",
    "print(sr)"
   ]
  },
  {
   "cell_type": "code",
   "execution_count": 11,
<<<<<<< Updated upstream:NLP/01. 자연어처리(natural language processing) 준비하기.ipynb
   "id": "16e4fd0e",
=======
   "id": "ba99e3ed",
>>>>>>> Stashed changes:NLP/NLP Natural Language Processing 공부.ipynb
   "metadata": {},
   "outputs": [
    {
     "name": "stdout",
     "output_type": "stream",
     "text": [
      "시리즈의 값 : [17000 18000  1000  5000]\n",
      "시리즈의 인덱스 : Index(['피자', '치킨', '콜라', '맥주'], dtype='object')\n"
     ]
    }
   ],
   "source": [
    "print(f'시리즈의 값 : {sr.values}')\n",
    "print(f'시리즈의 인덱스 : {sr.index}')"
   ]
  },
  {
   "cell_type": "markdown",
<<<<<<< Updated upstream:NLP/01. 자연어처리(natural language processing) 준비하기.ipynb
   "id": "f8b67613",
=======
   "id": "d0e1c40f",
>>>>>>> Stashed changes:NLP/NLP Natural Language Processing 공부.ipynb
   "metadata": {},
   "source": [
    "##### (2) 데이터프레임(DataFrame)\n",
    "\n",
    "데이터프레임은 2차원 리스트를 매개변수로 전달합니다. 2차원이므로 행방향 인덱스와 열방향 인덱스가 존재합니다. 다시 말해 행과 열을 가지는 자료구조입니다. 시리즈가 인덱스와 값으로 구성된다면, 데이터프레임은 열까지 추가되어 열, 인덱스, 값으로 구성됩니다. "
   ]
  },
  {
   "cell_type": "code",
   "execution_count": 12,
<<<<<<< Updated upstream:NLP/01. 자연어처리(natural language processing) 준비하기.ipynb
   "id": "f5df1b0a",
=======
   "id": "0f88e1ab",
>>>>>>> Stashed changes:NLP/NLP Natural Language Processing 공부.ipynb
   "metadata": {},
   "outputs": [
    {
     "name": "stdout",
     "output_type": "stream",
     "text": [
      "데이터프레임 출력\n",
      "---------------\n",
      "       A  B  C\n",
      "one    1  2  3\n",
      "two    4  5  6\n",
      "three  7  8  9\n"
     ]
    }
   ],
   "source": [
    "value = [[1, 2, 3], [4, 5, 6], [7, 8, 9]]\n",
    "index = ['one', 'two', 'three']\n",
    "columns = ['A', 'B', 'C']\n",
    "\n",
    "df = pd.DataFrame(value, index = index, columns = columns)\n",
    "print('데이터프레임 출력')\n",
    "print('-' * 15)\n",
    "print(df)"
   ]
  },
  {
   "cell_type": "code",
   "execution_count": 13,
<<<<<<< Updated upstream:NLP/01. 자연어처리(natural language processing) 준비하기.ipynb
   "id": "413c8c52",
=======
   "id": "b36b8536",
>>>>>>> Stashed changes:NLP/NLP Natural Language Processing 공부.ipynb
   "metadata": {},
   "outputs": [
    {
     "name": "stdout",
     "output_type": "stream",
     "text": [
      "데이터프레임 인덱스 : Index(['one', 'two', 'three'], dtype='object')\n",
      "데이터프레임 열이름 : Index(['A', 'B', 'C'], dtype='object')\n",
      "데이터프레임 값\n",
      "---------------\n",
      "[[1 2 3]\n",
      " [4 5 6]\n",
      " [7 8 9]]\n"
     ]
    }
   ],
   "source": [
    "print(f'데이터프레임 인덱스 : {df.index}')\n",
    "print(f'데이터프레임 열이름 : {df.columns}')\n",
    "print('데이터프레임 값')\n",
    "print('-' * 15)\n",
    "print(df.values)"
   ]
  },
  {
   "cell_type": "markdown",
<<<<<<< Updated upstream:NLP/01. 자연어처리(natural language processing) 준비하기.ipynb
   "id": "752a5588",
=======
   "id": "a4972128",
>>>>>>> Stashed changes:NLP/NLP Natural Language Processing 공부.ipynb
   "metadata": {},
   "source": [
    "##### (3) 데이터프레임의 생성\n",
    "\n",
    "데이터프레임은 리스트, 시리즈, 딕셔너리, Numpy의 ndarrays, 또 다른 데이터프레임으로부터 생성할 수 있습니다. 여기서는 리스트와 딕셔너리를 사용하여 데이터프레임을 생성해보겠습니다."
   ]
  },
  {
   "cell_type": "code",
   "execution_count": 14,
<<<<<<< Updated upstream:NLP/01. 자연어처리(natural language processing) 준비하기.ipynb
   "id": "e05a7709",
=======
   "id": "6ead3aa1",
>>>>>>> Stashed changes:NLP/NLP Natural Language Processing 공부.ipynb
   "metadata": {},
   "outputs": [
    {
     "name": "stdout",
     "output_type": "stream",
     "text": [
      "      0         1      2\n",
      "0  1000     Steve  90.72\n",
      "1  1001     James  78.09\n",
      "2  1002    Doyeon  98.43\n",
      "3  1003      Jang  64.19\n",
      "4  1004  Pilwoong  81.30\n",
      "5  1005      Tony  99.14\n"
     ]
    }
   ],
   "source": [
    "# 리스트를 이용하여 DataFrame 생성하기\n",
    "data = [\n",
    "    ['1000', 'Steve', 90.72],\n",
    "    ['1001', 'James', 78.09],\n",
    "    ['1002', 'Doyeon', 98.43],\n",
    "    ['1003', 'Jang', 64.19],\n",
    "    ['1004', 'Pilwoong', 81.30],\n",
    "    ['1005', 'Tony', 99.14]\n",
    "]\n",
    "\n",
    "df = pd.DataFrame(data)\n",
    "print(df)"
   ]
  },
  {
   "cell_type": "markdown",
<<<<<<< Updated upstream:NLP/01. 자연어처리(natural language processing) 준비하기.ipynb
   "id": "622bfba1",
=======
   "id": "e68fbbaf",
>>>>>>> Stashed changes:NLP/NLP Natural Language Processing 공부.ipynb
   "metadata": {},
   "source": [
    "생성된 데이터프레임에 열을 지정해줄 수 있습니다. "
   ]
  },
  {
   "cell_type": "code",
   "execution_count": 15,
<<<<<<< Updated upstream:NLP/01. 자연어처리(natural language processing) 준비하기.ipynb
   "id": "4c88d1ba",
=======
   "id": "5e214ceb",
>>>>>>> Stashed changes:NLP/NLP Natural Language Processing 공부.ipynb
   "metadata": {},
   "outputs": [
    {
     "name": "stdout",
     "output_type": "stream",
     "text": [
      "     학번        이름     점수\n",
      "0  1000     Steve  90.72\n",
      "1  1001     James  78.09\n",
      "2  1002    Doyeon  98.43\n",
      "3  1003      Jang  64.19\n",
      "4  1004  Pilwoong  81.30\n",
      "5  1005      Tony  99.14\n"
     ]
    }
   ],
   "source": [
    "df = pd.DataFrame(data, columns = ['학번', '이름', '점수'])\n",
    "print(df)"
   ]
  },
  {
   "cell_type": "code",
   "execution_count": 16,
<<<<<<< Updated upstream:NLP/01. 자연어처리(natural language processing) 준비하기.ipynb
   "id": "0d817358",
=======
   "id": "9d8da9cd",
>>>>>>> Stashed changes:NLP/NLP Natural Language Processing 공부.ipynb
   "metadata": {},
   "outputs": [
    {
     "name": "stdout",
     "output_type": "stream",
     "text": [
      "     학번        이름     점수\n",
      "0  1000     Steve  90.72\n",
      "1  1001     James  78.09\n",
      "2  1002    Doyeon  98.43\n",
      "3  1003      Jang  64.19\n",
      "4  1004  Pilwoong  81.30\n",
      "5  1005      Tony  99.14\n"
     ]
    }
   ],
   "source": [
    "# 딕셔너리를 이용하여 DataFrame 생성하기\n",
    "data = {\n",
    "    '학번' : ['1000', '1001', '1002', '1003', '1004', '1005'],\n",
    "    '이름' : ['Steve', 'James', 'Doyeon', 'Jang', 'Pilwoong', 'Tony'],\n",
    "    '점수' : [90.72, 78.09, 98.43, 64.19, 81.30, 99.14]\n",
    "}\n",
    "\n",
    "df = pd.DataFrame(data)\n",
    "print(df)"
   ]
  },
  {
   "cell_type": "markdown",
<<<<<<< Updated upstream:NLP/01. 자연어처리(natural language processing) 준비하기.ipynb
   "id": "2162c2c8",
=======
   "id": "bb7e1c90",
>>>>>>> Stashed changes:NLP/NLP Natural Language Processing 공부.ipynb
   "metadata": {},
   "source": [
    "##### (4) 데이터프레임 조회하기\n",
    "\n",
    "아래의 명령어들은 데이터프레임에서 원하는 구간만 확인하기 위한 명령어로서 유용하게 사용됩니다.\n",
    "\n",
    "* df.head(n) : 앞 부분을 n개만 보기\n",
    "* df.tail(n) : 뒷 부분을 n개만 보기\n",
    "* df['열이름'] : 해당되는 열을 확인"
   ]
  },
  {
   "cell_type": "code",
   "execution_count": 17,
<<<<<<< Updated upstream:NLP/01. 자연어처리(natural language processing) 준비하기.ipynb
   "id": "4979470c",
=======
   "id": "69c0bca8",
>>>>>>> Stashed changes:NLP/NLP Natural Language Processing 공부.ipynb
   "metadata": {},
   "outputs": [
    {
     "name": "stdout",
     "output_type": "stream",
     "text": [
      "     학번      이름     점수\n",
      "0  1000   Steve  90.72\n",
      "1  1001   James  78.09\n",
      "2  1002  Doyeon  98.43\n"
     ]
    }
   ],
   "source": [
    "print(df.head(3))"
   ]
  },
  {
   "cell_type": "code",
   "execution_count": 18,
<<<<<<< Updated upstream:NLP/01. 자연어처리(natural language processing) 준비하기.ipynb
   "id": "6e55c9d4",
=======
   "id": "71c6dc74",
>>>>>>> Stashed changes:NLP/NLP Natural Language Processing 공부.ipynb
   "metadata": {},
   "outputs": [
    {
     "name": "stdout",
     "output_type": "stream",
     "text": [
      "     학번        이름     점수\n",
      "3  1003      Jang  64.19\n",
      "4  1004  Pilwoong  81.30\n",
      "5  1005      Tony  99.14\n"
     ]
    }
   ],
   "source": [
    "print(df.tail(3))"
   ]
  },
  {
   "cell_type": "code",
   "execution_count": 19,
<<<<<<< Updated upstream:NLP/01. 자연어처리(natural language processing) 준비하기.ipynb
   "id": "2a2da244",
=======
   "id": "7e7b8c0e",
>>>>>>> Stashed changes:NLP/NLP Natural Language Processing 공부.ipynb
   "metadata": {},
   "outputs": [
    {
     "name": "stdout",
     "output_type": "stream",
     "text": [
      "0    1000\n",
      "1    1001\n",
      "2    1002\n",
      "3    1003\n",
      "4    1004\n",
      "5    1005\n",
      "Name: 학번, dtype: object\n"
     ]
    }
   ],
   "source": [
    "print(df['학번'])"
   ]
  },
  {
   "cell_type": "markdown",
<<<<<<< Updated upstream:NLP/01. 자연어처리(natural language processing) 준비하기.ipynb
   "id": "86e48756",
=======
   "id": "b90a1894",
>>>>>>> Stashed changes:NLP/NLP Natural Language Processing 공부.ipynb
   "metadata": {},
   "source": [
    "##### (5) 외부 데이터 읽기\n",
    "\n",
    "Pandas는 CSV, Text, Excel, SQL, HTML, JSON 등 다양한 데이터 파일을 읽고 데이터프레임을 생성할 수 있습니다.\n",
    "\n",
    "```python\n",
    "df = pd.read_csv('파일경로 + 파일.확장자')\n",
    "print(df)\n",
    "```"
   ]
  },
  {
   "cell_type": "markdown",
<<<<<<< Updated upstream:NLP/01. 자연어처리(natural language processing) 준비하기.ipynb
   "id": "ac24c611",
=======
   "id": "f391db1e",
>>>>>>> Stashed changes:NLP/NLP Natural Language Processing 공부.ipynb
   "metadata": {},
   "source": [
    "#### 2. 넘파이(Numpy)\n",
    "\n",
    "넘파이는 수치 데이터를 다루는 파이썬 패키지입니다. Numpy의 핵심이라고 불리는 다차원 행렬 자료구조인 ndarray를 통해 벡터 및 행렬을 사용하는 선형 대수 계산에서 주로 사용됩니다. Numpy는 편의성뿐만 아니라, 속도면에서도 순수 파이썬에 비해 압도적으로 빠르다는 장점이 있습니다."
   ]
  },
  {
   "cell_type": "code",
<<<<<<< Updated upstream:NLP/01. 자연어처리(natural language processing) 준비하기.ipynb
   "execution_count": 21,
   "id": "a9c5239f",
=======
   "execution_count": 20,
   "id": "6b274c03",
>>>>>>> Stashed changes:NLP/NLP Natural Language Processing 공부.ipynb
   "metadata": {},
   "outputs": [
    {
     "data": {
      "text/plain": [
       "'1.21.5'"
      ]
     },
     "execution_count": 21,
     "metadata": {},
     "output_type": "execute_result"
    }
   ],
   "source": [
    "import numpy as np\n",
    "np.__version__"
   ]
  },
  {
   "cell_type": "markdown",
<<<<<<< Updated upstream:NLP/01. 자연어처리(natural language processing) 준비하기.ipynb
   "id": "c08369f4",
=======
   "id": "08be4c50",
>>>>>>> Stashed changes:NLP/NLP Natural Language Processing 공부.ipynb
   "metadata": {},
   "source": [
    "Numpy의 경우 np라는 명칭으로 임포트하는 것이 관례입니다. \n",
    "\n",
    "##### (1) np.array()\n",
    "\n",
    "Numpy의 핵심은 ndarray입니다. np.array()는 리스트, 튜플, 배열로 부터 ndarray를 생성합니다. "
   ]
  },
  {
   "cell_type": "code",
<<<<<<< Updated upstream:NLP/01. 자연어처리(natural language processing) 준비하기.ipynb
   "execution_count": 22,
   "id": "01574401",
=======
   "execution_count": 21,
   "id": "8e529785",
>>>>>>> Stashed changes:NLP/NLP Natural Language Processing 공부.ipynb
   "metadata": {},
   "outputs": [
    {
     "name": "stdout",
     "output_type": "stream",
     "text": [
      "[1 2 3 4 5]\n"
     ]
    }
   ],
   "source": [
    "# 1차원 배열\n",
    "ls = [1, 2, 3, 4, 5]\n",
    "vec = np.array(ls)\n",
    "print(vec)"
   ]
  },
  {
   "cell_type": "markdown",
<<<<<<< Updated upstream:NLP/01. 자연어처리(natural language processing) 준비하기.ipynb
   "id": "286ad707",
=======
   "id": "4e3cff2e",
>>>>>>> Stashed changes:NLP/NLP Natural Language Processing 공부.ipynb
   "metadata": {},
   "source": [
    "2차원 배열은 array() 안에 하나의 리스트만 들어가므로 리스트의 리스트를 넣어야 한다는 주의사항이 있습니다."
   ]
  },
  {
   "cell_type": "code",
<<<<<<< Updated upstream:NLP/01. 자연어처리(natural language processing) 준비하기.ipynb
   "execution_count": 23,
   "id": "05a7209b",
=======
   "execution_count": 22,
   "id": "2ce30dbd",
>>>>>>> Stashed changes:NLP/NLP Natural Language Processing 공부.ipynb
   "metadata": {},
   "outputs": [
    {
     "name": "stdout",
     "output_type": "stream",
     "text": [
      "[1 2 3 4 5]\n"
     ]
    }
   ],
   "source": [
    "# 2차원 배열 \n",
    "ls = [[10, 20, 30], [40, 50, 60]] \n",
    "mat = np.array(ls)\n",
    "print(vec)"
   ]
  },
  {
   "cell_type": "code",
<<<<<<< Updated upstream:NLP/01. 자연어처리(natural language processing) 준비하기.ipynb
   "execution_count": 24,
   "id": "a6243340",
=======
   "execution_count": 23,
   "id": "7624438e",
>>>>>>> Stashed changes:NLP/NLP Natural Language Processing 공부.ipynb
   "metadata": {},
   "outputs": [
    {
     "name": "stdout",
     "output_type": "stream",
     "text": [
      "vec의 타입 : <class 'numpy.ndarray'>\n",
      "mat의 타입 : <class 'numpy.ndarray'>\n"
     ]
    }
   ],
   "source": [
    "print(f'vec의 타입 : {type(vec)}')\n",
    "print(f'mat의 타입 : {type(mat)}')"
   ]
  },
  {
   "cell_type": "markdown",
<<<<<<< Updated upstream:NLP/01. 자연어처리(natural language processing) 준비하기.ipynb
   "id": "a487e79b",
=======
   "id": "17859e4e",
>>>>>>> Stashed changes:NLP/NLP Natural Language Processing 공부.ipynb
   "metadata": {},
   "source": [
    "Numpy 배열에는 축의 개수(ndim)와 크기(shape)라는 개념이 존재하는데, 배열의 크기를 정확히 숙지하는 것은 딥 러닝에서 매우 중요합니다. "
   ]
  },
  {
   "cell_type": "code",
<<<<<<< Updated upstream:NLP/01. 자연어처리(natural language processing) 준비하기.ipynb
   "execution_count": 25,
   "id": "b87f25a9",
=======
   "execution_count": 24,
   "id": "2c69996b",
>>>>>>> Stashed changes:NLP/NLP Natural Language Processing 공부.ipynb
   "metadata": {},
   "outputs": [
    {
     "name": "stdout",
     "output_type": "stream",
     "text": [
      "vec의 축의 개수 : 1\n",
      "vec의 크기(shape) : (5,)\n"
     ]
    }
   ],
   "source": [
    "print(f'vec의 축의 개수 : {vec.ndim}')\n",
    "print(f'vec의 크기(shape) : {vec.shape}')"
   ]
  },
  {
   "cell_type": "code",
<<<<<<< Updated upstream:NLP/01. 자연어처리(natural language processing) 준비하기.ipynb
   "execution_count": 26,
   "id": "83c3a57b",
=======
   "execution_count": 25,
   "id": "b11bc2a8",
>>>>>>> Stashed changes:NLP/NLP Natural Language Processing 공부.ipynb
   "metadata": {},
   "outputs": [
    {
     "name": "stdout",
     "output_type": "stream",
     "text": [
      "mat의 축의 개수 : 2\n",
      "mat의 크기(shape) : (2, 3)\n"
     ]
    }
   ],
   "source": [
    "print(f'mat의 축의 개수 : {mat.ndim}')\n",
    "print(f'mat의 크기(shape) : {mat.shape}')"
   ]
  },
  {
   "cell_type": "markdown",
<<<<<<< Updated upstream:NLP/01. 자연어처리(natural language processing) 준비하기.ipynb
   "id": "9e9bd2d6",
=======
   "id": "f9dbe938",
>>>>>>> Stashed changes:NLP/NLP Natural Language Processing 공부.ipynb
   "metadata": {},
   "source": [
    "##### (2) ndarray의 초기화\n",
    "\n",
    "ndarray를 만드는 다양한 다른방법이 존재합니다. \n",
    "\n",
    "np.zeros()는 배열의 모든 원소에 0을 삽입합니다."
   ]
  },
  {
   "cell_type": "code",
<<<<<<< Updated upstream:NLP/01. 자연어처리(natural language processing) 준비하기.ipynb
   "execution_count": 27,
   "id": "a51611ca",
=======
   "execution_count": 26,
   "id": "84078164",
>>>>>>> Stashed changes:NLP/NLP Natural Language Processing 공부.ipynb
   "metadata": {},
   "outputs": [
    {
     "name": "stdout",
     "output_type": "stream",
     "text": [
      "[[0. 0. 0.]\n",
      " [0. 0. 0.]]\n"
     ]
    }
   ],
   "source": [
    "# 모든 값이 0인 2x3 배열 생성\n",
    "zeros_mat = np.zeros((2, 3))\n",
    "print(zeros_mat)"
   ]
  },
  {
   "cell_type": "markdown",
<<<<<<< Updated upstream:NLP/01. 자연어처리(natural language processing) 준비하기.ipynb
   "id": "2b0cfd5a",
=======
   "id": "57fb021a",
>>>>>>> Stashed changes:NLP/NLP Natural Language Processing 공부.ipynb
   "metadata": {},
   "source": [
    "np.ones()는 배열의 모든 원소에 1을 삽입합니다."
   ]
  },
  {
   "cell_type": "code",
<<<<<<< Updated upstream:NLP/01. 자연어처리(natural language processing) 준비하기.ipynb
   "execution_count": 28,
   "id": "28e2642a",
=======
   "execution_count": 27,
   "id": "ae93aaad",
>>>>>>> Stashed changes:NLP/NLP Natural Language Processing 공부.ipynb
   "metadata": {},
   "outputs": [
    {
     "name": "stdout",
     "output_type": "stream",
     "text": [
      "[[1. 1. 1.]\n",
      " [1. 1. 1.]]\n"
     ]
    }
   ],
   "source": [
    "# 모든 값이 1인 2x3 배열 생성\n",
    "ones_mat = np.ones((2, 3))\n",
    "print(ones_mat)"
   ]
  },
  {
   "cell_type": "markdown",
<<<<<<< Updated upstream:NLP/01. 자연어처리(natural language processing) 준비하기.ipynb
   "id": "e504baef",
=======
   "id": "3d8e623e",
>>>>>>> Stashed changes:NLP/NLP Natural Language Processing 공부.ipynb
   "metadata": {},
   "source": [
    "np.full()은 배열에 사용자가 지정한 값을 삽입합니다."
   ]
  },
  {
   "cell_type": "code",
<<<<<<< Updated upstream:NLP/01. 자연어처리(natural language processing) 준비하기.ipynb
   "execution_count": 29,
   "id": "f5bf3c2d",
=======
   "execution_count": 28,
   "id": "d07b7c22",
>>>>>>> Stashed changes:NLP/NLP Natural Language Processing 공부.ipynb
   "metadata": {},
   "outputs": [
    {
     "name": "stdout",
     "output_type": "stream",
     "text": [
      "[[7 7 7]\n",
      " [7 7 7]]\n"
     ]
    }
   ],
   "source": [
    "# 모든 값이 특정 상수인 배열 생성\n",
    "same_value_mat = np.full((2, 3), 7)\n",
    "print(same_value_mat)"
   ]
  },
  {
   "cell_type": "markdown",
<<<<<<< Updated upstream:NLP/01. 자연어처리(natural language processing) 준비하기.ipynb
   "id": "7899480e",
=======
   "id": "6ea44c3f",
>>>>>>> Stashed changes:NLP/NLP Natural Language Processing 공부.ipynb
   "metadata": {},
   "source": [
    "np.eye()는 단위행렬을 생성합니다."
   ]
  },
  {
   "cell_type": "code",
<<<<<<< Updated upstream:NLP/01. 자연어처리(natural language processing) 준비하기.ipynb
   "execution_count": 32,
   "id": "21dcc222",
=======
   "execution_count": 29,
   "id": "b7aead4b",
>>>>>>> Stashed changes:NLP/NLP Natural Language Processing 공부.ipynb
   "metadata": {},
   "outputs": [
    {
     "name": "stdout",
     "output_type": "stream",
     "text": [
      "[[1. 0. 0.]\n",
      " [0. 1. 0.]\n",
      " [0. 0. 1.]]\n"
     ]
    }
   ],
   "source": [
    "# 단위행렬 배열 생성\n",
    "eye_mat = np.eye(3)\n",
    "print(eye_mat)"
   ]
  },
  {
   "cell_type": "markdown",
<<<<<<< Updated upstream:NLP/01. 자연어처리(natural language processing) 준비하기.ipynb
   "id": "248538f4",
=======
   "id": "6976665d",
>>>>>>> Stashed changes:NLP/NLP Natural Language Processing 공부.ipynb
   "metadata": {},
   "source": [
    "np.random.random()은 임임의 값을 가지는 배열을 생성합니다."
   ]
  },
  {
   "cell_type": "code",
<<<<<<< Updated upstream:NLP/01. 자연어처리(natural language processing) 준비하기.ipynb
   "execution_count": 33,
   "id": "39635a2b",
=======
   "execution_count": 30,
   "id": "54497b08",
>>>>>>> Stashed changes:NLP/NLP Natural Language Processing 공부.ipynb
   "metadata": {},
   "outputs": [
    {
     "name": "stdout",
     "output_type": "stream",
     "text": [
      "[[0.99005578 0.38205057 0.32520837]\n",
      " [0.84314904 0.4393963  0.88981322]]\n"
     ]
    }
   ],
   "source": [
    "# 임의의 값으로 채워진 배열 생성\n",
    "random_mat = np.random.random((2, 3))\n",
    "print(random_mat)"
   ]
  },
  {
   "cell_type": "markdown",
<<<<<<< Updated upstream:NLP/01. 자연어처리(natural language processing) 준비하기.ipynb
   "id": "0927ba6d",
=======
   "id": "812d9828",
>>>>>>> Stashed changes:NLP/NLP Natural Language Processing 공부.ipynb
   "metadata": {},
   "source": [
    "##### (3) np.arange()\n",
    "\n",
    "np.arange(n)은 0부터 n-1까지의 값을 가지는 배열을 생성합니다."
   ]
  },
  {
   "cell_type": "code",
<<<<<<< Updated upstream:NLP/01. 자연어처리(natural language processing) 준비하기.ipynb
   "execution_count": 34,
   "id": "c50d7c91",
=======
   "execution_count": 31,
   "id": "82c73d20",
>>>>>>> Stashed changes:NLP/NLP Natural Language Processing 공부.ipynb
   "metadata": {},
   "outputs": [
    {
     "name": "stdout",
     "output_type": "stream",
     "text": [
      "[0 1 2 3 4 5 6 7 8 9]\n",
      "\n",
      "\n",
      "[1 3 5 7 9]\n"
     ]
    }
   ],
   "source": [
    "range_vec = np.arange(10)\n",
    "print(range_vec)\n",
    "\n",
    "print('\\n')\n",
    "\n",
    "n = 2\n",
    "range_vec = np.arange(1, 10, n)\n",
    "print(range_vec)"
   ]
  },
  {
   "cell_type": "markdown",
<<<<<<< Updated upstream:NLP/01. 자연어처리(natural language processing) 준비하기.ipynb
   "id": "b44b11fd",
=======
   "id": "74603b95",
>>>>>>> Stashed changes:NLP/NLP Natural Language Processing 공부.ipynb
   "metadata": {},
   "source": [
    "##### (4) np.reshape()\n",
    "\n",
    "np.reshape()은 내부 데이터는 변경하지 않으면서 배열의 구조를 바꿉니다."
   ]
  },
  {
   "cell_type": "code",
<<<<<<< Updated upstream:NLP/01. 자연어처리(natural language processing) 준비하기.ipynb
   "execution_count": 35,
   "id": "9903aec6",
=======
   "execution_count": 32,
   "id": "b501f2e9",
>>>>>>> Stashed changes:NLP/NLP Natural Language Processing 공부.ipynb
   "metadata": {},
   "outputs": [
    {
     "name": "stdout",
     "output_type": "stream",
     "text": [
      "[[ 0  1  2  3  4  5]\n",
      " [ 6  7  8  9 10 11]\n",
      " [12 13 14 15 16 17]\n",
      " [18 19 20 21 22 23]\n",
      " [24 25 26 27 28 29]]\n"
     ]
    }
   ],
   "source": [
    "reshape_mat = np.array(np.arange(30)).reshape(5, 6)\n",
    "print(reshape_mat)"
   ]
  },
  {
   "cell_type": "markdown",
<<<<<<< Updated upstream:NLP/01. 자연어처리(natural language processing) 준비하기.ipynb
   "id": "d09bd2b0",
=======
   "id": "65270656",
>>>>>>> Stashed changes:NLP/NLP Natural Language Processing 공부.ipynb
   "metadata": {},
   "source": [
    "##### (5) Numpy 슬라이싱\n",
    "\n",
    "ndarray를 통해 만든 다차원 배열은 파이썬의 자료구조인 리스트처럼 슬라이싱 기능을 지원합니다. 슬라이싱 기능을 사용하여 특정 행이나 열들으 원소들을 접근할 수 있습니다."
   ]
  },
  {
   "cell_type": "code",
<<<<<<< Updated upstream:NLP/01. 자연어처리(natural language processing) 준비하기.ipynb
   "execution_count": 36,
   "id": "d763dd80",
=======
   "execution_count": 33,
   "id": "89843f1b",
>>>>>>> Stashed changes:NLP/NLP Natural Language Processing 공부.ipynb
   "metadata": {},
   "outputs": [
    {
     "name": "stdout",
     "output_type": "stream",
     "text": [
      "[[1 2 3]\n",
      " [4 5 6]]\n"
     ]
    }
   ],
   "source": [
    "mat = np.array([[1, 2, 3], [4, 5, 6]])\n",
    "print(mat)"
   ]
  },
  {
   "cell_type": "code",
<<<<<<< Updated upstream:NLP/01. 자연어처리(natural language processing) 준비하기.ipynb
   "execution_count": 37,
   "id": "119618c8",
=======
   "execution_count": 34,
   "id": "8eaba1ec",
>>>>>>> Stashed changes:NLP/NLP Natural Language Processing 공부.ipynb
   "metadata": {},
   "outputs": [
    {
     "name": "stdout",
     "output_type": "stream",
     "text": [
      "[1 2 3]\n"
     ]
    }
   ],
   "source": [
    "# 첫번째 행 출력\n",
    "print(mat[0 ,:])"
   ]
  },
  {
   "cell_type": "code",
<<<<<<< Updated upstream:NLP/01. 자연어처리(natural language processing) 준비하기.ipynb
   "execution_count": 38,
   "id": "924294e9",
=======
   "execution_count": 35,
   "id": "0775020b",
>>>>>>> Stashed changes:NLP/NLP Natural Language Processing 공부.ipynb
   "metadata": {},
   "outputs": [
    {
     "name": "stdout",
     "output_type": "stream",
     "text": [
      "[2 5]\n"
     ]
    }
   ],
   "source": [
    "# 두번째 열 출력\n",
    "print(mat[:, 1])"
   ]
  },
  {
   "cell_type": "markdown",
<<<<<<< Updated upstream:NLP/01. 자연어처리(natural language processing) 준비하기.ipynb
   "id": "7331136a",
=======
   "id": "ecc88ee5",
>>>>>>> Stashed changes:NLP/NLP Natural Language Processing 공부.ipynb
   "metadata": {},
   "source": [
    "##### (6) Numpy 정수 인덱싱\n",
    "\n",
    "슬라이싱을 사용하면 배열로부터 부분 배열을 추출할 수 있지만, 연속적이지 않은 원소로 배열을 만들 경우에는 슬라이싱으로는 만들 수 없습니다. 이런 경우에는 인덱싱을 사용하여 배열을 구성할 수 있습니다. 인덱싱은 원하는 위치의 원소들을 뽑을 수 있습니다."
   ]
  },
  {
   "cell_type": "code",
<<<<<<< Updated upstream:NLP/01. 자연어처리(natural language processing) 준비하기.ipynb
   "execution_count": 39,
   "id": "d755d5ee",
=======
   "execution_count": 37,
   "id": "feea7413",
>>>>>>> Stashed changes:NLP/NLP Natural Language Processing 공부.ipynb
   "metadata": {},
   "outputs": [
    {
     "name": "stdout",
     "output_type": "stream",
     "text": [
      "[[1 2]\n",
      " [4 5]\n",
      " [7 8]]\n",
      "[8 5]\n",
      "[8 5]\n"
     ]
    }
   ],
   "source": [
    "mat = np.array([[1, 2], [4, 5], [7, 8]])\n",
    "print(mat)\n",
    "\n",
    "print(mat[[2, 1], [1, 1]])\n",
    "\n",
    "indexing_mat = mat[[2, 1], [1, 1]]\n",
    "print(indexing_mat)"
   ]
  },
  {
   "cell_type": "markdown",
<<<<<<< Updated upstream:NLP/01. 자연어처리(natural language processing) 준비하기.ipynb
   "id": "34673a26",
=======
   "id": "3b396ea0",
>>>>>>> Stashed changes:NLP/NLP Natural Language Processing 공부.ipynb
   "metadata": {},
   "source": [
    "##### (7) Numpy 연산\n",
    "\n",
    "Numpy를 사용하면 배열간 연산을 손쉽게 수행할 수 있습니다. +, -, *, /를 사용할 수 있으며 또는 np.add(), np.subtract(), np.multiply(), np.divide()를 사용할 수도 있습니다."
   ]
  },
  {
   "cell_type": "code",
<<<<<<< Updated upstream:NLP/01. 자연어처리(natural language processing) 준비하기.ipynb
   "execution_count": 40,
   "id": "ce1e1f5f",
=======
   "execution_count": 38,
   "id": "9be9ec41",
>>>>>>> Stashed changes:NLP/NLP Natural Language Processing 공부.ipynb
   "metadata": {},
   "outputs": [],
   "source": [
    "x = np.array([1, 2, 3])\n",
    "y = np.array([4, 5, 6])"
   ]
  },
  {
   "cell_type": "code",
<<<<<<< Updated upstream:NLP/01. 자연어처리(natural language processing) 준비하기.ipynb
   "execution_count": 41,
   "id": "3609a654",
=======
   "execution_count": 39,
   "id": "9dc56964",
>>>>>>> Stashed changes:NLP/NLP Natural Language Processing 공부.ipynb
   "metadata": {},
   "outputs": [
    {
     "name": "stdout",
     "output_type": "stream",
     "text": [
      "[5 7 9]\n",
      "[-3 -3 -3]\n",
      "[ 4 10 18]\n",
      "[0.25 0.4  0.5 ]\n"
     ]
    }
   ],
   "source": [
    "result = x + y\n",
    "print(result)\n",
    "\n",
    "result = x - y\n",
    "print(result)\n",
    "\n",
    "result = x * y\n",
    "print(result)\n",
    "\n",
    "result = x / y\n",
    "print(result)"
   ]
  },
  {
   "cell_type": "markdown",
<<<<<<< Updated upstream:NLP/01. 자연어처리(natural language processing) 준비하기.ipynb
   "id": "947f2ef3",
=======
   "id": "6eb24623",
>>>>>>> Stashed changes:NLP/NLP Natural Language Processing 공부.ipynb
   "metadata": {},
   "source": [
    "위에서 *를 통해 수행한 것은 요소별 곱입니다. Numpy에서 벡터와 행렬의 곱 또는 행렬곱을 위해서는 dot()을 사용해야 합니다."
   ]
  },
  {
   "cell_type": "code",
<<<<<<< Updated upstream:NLP/01. 자연어처리(natural language processing) 준비하기.ipynb
   "execution_count": 42,
   "id": "63890719",
=======
   "execution_count": 40,
   "id": "54f30ac4",
>>>>>>> Stashed changes:NLP/NLP Natural Language Processing 공부.ipynb
   "metadata": {},
   "outputs": [
    {
     "name": "stdout",
     "output_type": "stream",
     "text": [
      "[[19 22]\n",
      " [43 50]]\n"
     ]
    }
   ],
   "source": [
    "mat1 = np.array([[1, 2], [3, 4]])\n",
    "mat2 = np.array([[5, 6], [7, 8]])\n",
    "mat3 = np.dot(mat1, mat2)\n",
    "print(mat3)"
   ]
  },
  {
   "cell_type": "markdown",
<<<<<<< Updated upstream:NLP/01. 자연어처리(natural language processing) 준비하기.ipynb
   "id": "5d08e323",
=======
   "id": "e35e19d9",
>>>>>>> Stashed changes:NLP/NLP Natural Language Processing 공부.ipynb
   "metadata": {},
   "source": [
    "#### 3. 맷플롯립(Matplotlib)\n",
    "\n",
    "Matplotlib은 데이터를 차트나 plot으로 시각화하는 패키지입니다. 데이터 분석에서 Matplotlib은 데이터 분석 이전에 데이터 이ㅐㅎ를 위한 시각화나, 데이터 분석 후에 결과를 시각화하기 위해서 사용됩니다.\n",
    "\n",
    "##### (1) 라인 플롯 그리기\n",
    "\n",
    "plot()은 라인 plot을 그리는 기능을 수행합니다. plot()에 x축과 y축의 값을 기재하고 그림을 표시하는 show()를 통해서 시각화합니다. 추가적으로 title('제목')을 사용하여 그래프의 제목을 지정할 수 있으며, xlabel('X 라벨'), ylabel('Y 라벨')을 이용해 축의 이름을 지정할 수 있습니다. 또한 legend('범례1', '범례2')를 이용하여 다수의 plot의 범례를 지정할 수 있습니다."
   ]
  },
  {
   "cell_type": "code",
<<<<<<< Updated upstream:NLP/01. 자연어처리(natural language processing) 준비하기.ipynb
   "execution_count": 43,
   "id": "dd24ba46",
=======
   "execution_count": 41,
   "id": "5ac31f20",
>>>>>>> Stashed changes:NLP/NLP Natural Language Processing 공부.ipynb
   "metadata": {},
   "outputs": [
    {
     "data": {
      "text/plain": [
       "<function matplotlib.pyplot.show(close=None, block=None)>"
      ]
     },
     "execution_count": 43,
     "metadata": {},
     "output_type": "execute_result"
    },
    {
     "data": {
      "image/png": "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\n",
      "text/plain": [
       "<Figure size 432x288 with 1 Axes>"
      ]
     },
     "metadata": {
      "needs_background": "light"
     },
     "output_type": "display_data"
    }
   ],
   "source": [
    "import matplotlib.pyplot as plt\n",
    "\n",
    "plt.plot([1, 2, 3, 4], [2, 4, 8, 6])\n",
    "plt.plot([1.5, 2.5, 3.5, 4.5], [3, 5, 8, 10])\n",
    "plt.title('test')\n",
    "plt.xlabel('hour')\n",
    "plt.ylabel('score')\n",
    "plt.legend(['A student', 'B student'])\n",
    "plt.show"
   ]
  },
  {
   "cell_type": "markdown",
<<<<<<< Updated upstream:NLP/01. 자연어처리(natural language processing) 준비하기.ipynb
   "id": "37e98b34",
=======
   "id": "dd988837",
>>>>>>> Stashed changes:NLP/NLP Natural Language Processing 공부.ipynb
   "metadata": {},
   "source": [
    "### 5) 판다스 프로파이링(Pandas-Profiling)\n",
    "\n",
    "좋은 머신 러닝 결과를 얻기 위해서는 데이터의 성격을 파악하는 과정이 선행되어야 합니다. 이 과정에서 데이터 내 값의 분포, 변수 간의 관계, Null 값과 같은 결측값 존재 유무 등을 파악하게 되는데 이와 같이 데이터를 파악하는 과정을 EDA(Exploratory Data Analysis)이라고 합니다. 이번에는 방대한 양의 데이터를 가진 데이터프레임을 .profiling_report()라는 단 한 줄의 명령으로 탐색하는 패키지인 판다스 프로파일링을 소개합니다.\n",
    "\n",
    "아나콘다 프롬프트에서 아래의 pip 명령을 통해 패키지를 설치합니다.  \n",
    "```python\n",
    "conda install -c conda-forge pandas-profiling\n",
    "```\n",
    "\n",
    "#### 1. 실습 파일 불러오기\n",
    "\n",
    "실습을 위해 아래 링크에서 spam.csv란 파일을 다운로드 했습니다.  \n",
    "[링크](https://www.kaggle.com/uciml/sms-spam-collection-dataset)  \n",
    "\n",
    "spam.csv를 다운로드 받았다면 해당 파일을 불러왔습니다."
   ]
  },
  {
   "cell_type": "code",
<<<<<<< Updated upstream:NLP/01. 자연어처리(natural language processing) 준비하기.ipynb
   "execution_count": 44,
   "id": "3dd1f4aa",
=======
   "execution_count": 1,
   "id": "0cc5bafa",
>>>>>>> Stashed changes:NLP/NLP Natural Language Processing 공부.ipynb
   "metadata": {},
   "outputs": [
    {
     "ename": "ImportError",
     "evalue": "cannot import name 'to_html' from 'pandas_profiling.report' (C:\\ProgramData\\Anaconda3\\lib\\site-packages\\pandas_profiling\\report\\__init__.py)",
     "output_type": "error",
     "traceback": [
      "\u001b[1;31m---------------------------------------------------------------------------\u001b[0m",
      "\u001b[1;31mImportError\u001b[0m                               Traceback (most recent call last)",
      "Input \u001b[1;32mIn [1]\u001b[0m, in \u001b[0;36m<cell line: 2>\u001b[1;34m()\u001b[0m\n\u001b[0;32m      1\u001b[0m \u001b[38;5;28;01mimport\u001b[39;00m \u001b[38;5;21;01mpandas\u001b[39;00m \u001b[38;5;28;01mas\u001b[39;00m \u001b[38;5;21;01mpd\u001b[39;00m\n\u001b[1;32m----> 2\u001b[0m \u001b[38;5;28;01mimport\u001b[39;00m \u001b[38;5;21;01mpandas_profiling\u001b[39;00m\n\u001b[0;32m      4\u001b[0m data \u001b[38;5;241m=\u001b[39m pd\u001b[38;5;241m.\u001b[39mread_csv(\u001b[38;5;124mr\u001b[39m\u001b[38;5;124m'\u001b[39m\u001b[38;5;124mC:\u001b[39m\u001b[38;5;124m\\\u001b[39m\u001b[38;5;124mUsers\u001b[39m\u001b[38;5;124m\\\u001b[39m\u001b[38;5;124mOWNER\u001b[39m\u001b[38;5;124m\\\u001b[39m\u001b[38;5;124mstudy\u001b[39m\u001b[38;5;124m\\\u001b[39m\u001b[38;5;124mNLP_study\u001b[39m\u001b[38;5;124m\\\u001b[39m\u001b[38;5;124mNLP\u001b[39m\u001b[38;5;124m\\\u001b[39m\u001b[38;5;124mspam.csv\u001b[39m\u001b[38;5;124m'\u001b[39m, encoding\u001b[38;5;241m=\u001b[39m\u001b[38;5;124m'\u001b[39m\u001b[38;5;124mlatin1\u001b[39m\u001b[38;5;124m'\u001b[39m)\n",
      "File \u001b[1;32mC:\\ProgramData\\Anaconda3\\lib\\site-packages\\pandas_profiling\\__init__.py:12\u001b[0m, in \u001b[0;36m<module>\u001b[1;34m\u001b[0m\n\u001b[0;32m     10\u001b[0m \u001b[38;5;28;01mimport\u001b[39;00m \u001b[38;5;21;01mpandas_profiling\u001b[39;00m\u001b[38;5;21;01m.\u001b[39;00m\u001b[38;5;21;01mtemplates\u001b[39;00m \u001b[38;5;28;01mas\u001b[39;00m \u001b[38;5;21;01mtemplates\u001b[39;00m\n\u001b[0;32m     11\u001b[0m \u001b[38;5;28;01mfrom\u001b[39;00m \u001b[38;5;21;01m.\u001b[39;00m\u001b[38;5;21;01mdescribe\u001b[39;00m \u001b[38;5;28;01mimport\u001b[39;00m describe\n\u001b[1;32m---> 12\u001b[0m \u001b[38;5;28;01mfrom\u001b[39;00m \u001b[38;5;21;01m.\u001b[39;00m\u001b[38;5;21;01mreport\u001b[39;00m \u001b[38;5;28;01mimport\u001b[39;00m to_html\n\u001b[0;32m     14\u001b[0m NO_OUTPUTFILE \u001b[38;5;241m=\u001b[39m \u001b[38;5;124m\"\u001b[39m\u001b[38;5;124mpandas_profiling.no_outputfile\u001b[39m\u001b[38;5;124m\"\u001b[39m\n\u001b[0;32m     15\u001b[0m DEFAULT_OUTPUTFILE \u001b[38;5;241m=\u001b[39m \u001b[38;5;124m\"\u001b[39m\u001b[38;5;124mpandas_profiling.default_outputfile\u001b[39m\u001b[38;5;124m\"\u001b[39m\n",
      "\u001b[1;31mImportError\u001b[0m: cannot import name 'to_html' from 'pandas_profiling.report' (C:\\ProgramData\\Anaconda3\\lib\\site-packages\\pandas_profiling\\report\\__init__.py)"
     ]
    }
   ],
   "source": [
    "import pandas as pd\n",
    "import pandas_profiling\n",
    "\n",
    "data = pd.read_csv(r'C:\\Users\\OWNER\\study\\NLP_study\\NLP\\spam.csv', encoding='latin1')"
   ]
  },
  {
   "cell_type": "code",
   "execution_count": 1,
   "id": "32814635",
   "metadata": {},
   "outputs": [
    {
     "name": "stdout",
     "output_type": "stream",
     "text": [
      "Name: pandas-profiling\n",
      "Version: 2.8.0\n",
      "Summary: Generate profile report for pandas DataFrame\n",
      "Home-page: https://github.com/pandas-profiling/pandas-profiling\n",
      "Author: Simon Brugman\n",
      "Author-email: pandasprofiling@gmail.com\n",
      "License: MIT\n",
      "Location: c:\\programdata\\anaconda3\\lib\\site-packages\n",
      "Requires: astropy, confuse, htmlmin, ipywidgets, jinja2, joblib, matplotlib, missingno, numpy, pandas, phik, requests, scipy, tangled-up-in-unicode, tqdm, visions\n",
      "Required-by: \n"
     ]
    }
   ],
   "source": [
    "!pip show pandas_profiling"
   ]
  },
  {
   "cell_type": "markdown",
<<<<<<< Updated upstream:NLP/01. 자연어처리(natural language processing) 준비하기.ipynb
   "id": "2554b4bd",
=======
   "id": "5212137b",
>>>>>>> Stashed changes:NLP/NLP Natural Language Processing 공부.ipynb
   "metadata": {},
   "source": [
    "여기서 encoding은 파일을 불러올 때 데이터가 잘 불러오기 위해 encoding을 지정하는 것입니다. csv 를 읽을 때 encoding을 utf-8로 하면 에러가 발생합니다. 그래서 encoding을 latin1으로 설정해야 합니다. 하지만 만약 불러오기 전이나 후에 엑셀 또는 csv 파일을 열었을 경우 다시 불러오면 데이터 내의 한글파일이 깨져있을 수 있습니다. 이는 파일을 열었을 때 encoding이 cp949로 변경되기 때문입니다. 그래서 이러한 깨짐현상이 나타났을 경우 encoding을 cp949로 변경해야합니다.  \n",
    "자세한 내용은 [링크](https://kamang-it.tistory.com/245)에서 확인가능합니다."
   ]
  },
  {
   "cell_type": "code",
<<<<<<< Updated upstream:NLP/01. 자연어처리(natural language processing) 준비하기.ipynb
   "execution_count": 45,
   "id": "d312d5ac",
=======
   "execution_count": null,
   "id": "c3fb48d7",
>>>>>>> Stashed changes:NLP/NLP Natural Language Processing 공부.ipynb
   "metadata": {},
   "outputs": [],
   "source": [
    "data[:5]"
   ]
  },
  {
   "cell_type": "markdown",
<<<<<<< Updated upstream:NLP/01. 자연어처리(natural language processing) 준비하기.ipynb
   "id": "144d4f8e",
=======
   "id": "edf8d64f",
>>>>>>> Stashed changes:NLP/NLP Natural Language Processing 공부.ipynb
   "metadata": {},
   "source": [
    "이 데이터에는 총 5개의 열이 있는데, 여기서 Unnamed라는 이름의 3개의 열은 5개의 행만 출력했음에도 벌써 Null값이 보입니다. v1열은 해당 메일이 스팸인지 아닌지를 나타내는 레이블에 해당되는 열입니다. ham은 정상 메일을 의미하고, spam은 스팸메일을 의미합니다. v2열은 메일의 본문을 담고 있습니다.\n",
    "\n",
    "실행을 하다보면 에러가 발생할 수도 있습니다. \n",
    "```python\n",
    "ImportError: cannot import name 'soft_unicode' from 'markupsafe' ...\n",
    "```\n",
    "이는 pandas profiling을 실행하기 위해서는 markupsafe에서 `soft_unicode`가 필요한데 markupsafe의 최신 버전에서는 soft_unicode가 빠져서 발생하는 에러입니다.  \n",
    "그리하여 이전 버전(2.0.1)의 markupsafe를 다운받으면 됩니다.\n",
    "```python\n",
    "pip install markupsafe==2.0.1\n",
    "```"
   ]
  },
  {
   "cell_type": "code",
<<<<<<< Updated upstream:NLP/01. 자연어처리(natural language processing) 준비하기.ipynb
   "execution_count": 46,
   "id": "a3707869",
   "metadata": {},
   "outputs": [
    {
     "data": {
      "application/vnd.jupyter.widget-view+json": {
       "model_id": "59ae2fd903f2451ba273ed1366e73061",
       "version_major": 2,
       "version_minor": 0
      },
      "text/plain": [
       "Summarize dataset:   0%|          | 0/5 [00:00<?, ?it/s]"
      ]
     },
     "metadata": {},
     "output_type": "display_data"
    },
    {
     "data": {
      "application/vnd.jupyter.widget-view+json": {
       "model_id": "a82e4d0564aa454e857b0d8aa40907b0",
=======
   "execution_count": 2,
   "id": "8b3abfaf",
   "metadata": {},
   "outputs": [
    {
     "ename": "NameError",
     "evalue": "name 'pandas_profiling' is not defined",
     "output_type": "error",
     "traceback": [
      "\u001b[1;31m---------------------------------------------------------------------------\u001b[0m",
      "\u001b[1;31mNameError\u001b[0m                                 Traceback (most recent call last)",
      "Input \u001b[1;32mIn [2]\u001b[0m, in \u001b[0;36m<cell line: 1>\u001b[1;34m()\u001b[0m\n\u001b[1;32m----> 1\u001b[0m pr \u001b[38;5;241m=\u001b[39m \u001b[43mpandas_profiling\u001b[49m\u001b[38;5;241m.\u001b[39mProfileReport(data) \u001b[38;5;66;03m# data.profile_report() 도 가능\u001b[39;00m\n\u001b[0;32m      2\u001b[0m pr\u001b[38;5;241m.\u001b[39mto_file(\u001b[38;5;124m'\u001b[39m\u001b[38;5;124m./pr_report.html\u001b[39m\u001b[38;5;124m'\u001b[39m)\n",
      "\u001b[1;31mNameError\u001b[0m: name 'pandas_profiling' is not defined"
     ]
    }
   ],
   "source": [
    "pr = pandas_profiling.ProfileReport(data) # data.profile_report() 도 가능\n",
    "pr.to_file('./pr_report.html')"
   ]
  },
  {
   "cell_type": "code",
   "execution_count": 4,
   "id": "6ef66f1d",
   "metadata": {},
   "outputs": [
    {
     "data": {
      "application/vnd.jupyter.widget-view+json": {
       "model_id": "0fcc322687544b2db76e9ee82ce4fabb",
>>>>>>> Stashed changes:NLP/NLP Natural Language Processing 공부.ipynb
       "version_major": 2,
       "version_minor": 0
      },
      "text/plain": [
       "Summarize dataset:   0%|          | 0/17 [00:00<?, ?it/s]"
      ]
     },
     "metadata": {},
     "output_type": "display_data"
    },
    {
<<<<<<< Updated upstream:NLP/01. 자연어처리(natural language processing) 준비하기.ipynb
     "data": {
      "application/vnd.jupyter.widget-view+json": {
       "model_id": "c9755d934bfc4dcca2379ad81ac08a8f",
       "version_major": 2,
       "version_minor": 0
      },
      "text/plain": [
       "Render HTML:   0%|          | 0/1 [00:00<?, ?it/s]"
      ]
     },
     "metadata": {},
     "output_type": "display_data"
    },
    {
     "data": {
      "application/vnd.jupyter.widget-view+json": {
       "model_id": "14147ed544ef45879b3682f5e1787aee",
       "version_major": 2,
       "version_minor": 0
      },
      "text/plain": [
       "Export report to file:   0%|          | 0/1 [00:00<?, ?it/s]"
      ]
=======
     "ename": "ImportError",
     "evalue": "cannot import name 'ABCIndexClass' from 'pandas.core.dtypes.generic' (C:\\ProgramData\\Anaconda3\\lib\\site-packages\\pandas\\core\\dtypes\\generic.py)",
     "output_type": "error",
     "traceback": [
      "\u001b[1;31m---------------------------------------------------------------------------\u001b[0m",
      "\u001b[1;31mImportError\u001b[0m                               Traceback (most recent call last)",
      "File \u001b[1;32mC:\\ProgramData\\Anaconda3\\lib\\site-packages\\IPython\\core\\formatters.py:343\u001b[0m, in \u001b[0;36mBaseFormatter.__call__\u001b[1;34m(self, obj)\u001b[0m\n\u001b[0;32m    341\u001b[0m     method \u001b[38;5;241m=\u001b[39m get_real_method(obj, \u001b[38;5;28mself\u001b[39m\u001b[38;5;241m.\u001b[39mprint_method)\n\u001b[0;32m    342\u001b[0m     \u001b[38;5;28;01mif\u001b[39;00m method \u001b[38;5;129;01mis\u001b[39;00m \u001b[38;5;129;01mnot\u001b[39;00m \u001b[38;5;28;01mNone\u001b[39;00m:\n\u001b[1;32m--> 343\u001b[0m         \u001b[38;5;28;01mreturn\u001b[39;00m \u001b[43mmethod\u001b[49m\u001b[43m(\u001b[49m\u001b[43m)\u001b[49m\n\u001b[0;32m    344\u001b[0m     \u001b[38;5;28;01mreturn\u001b[39;00m \u001b[38;5;28;01mNone\u001b[39;00m\n\u001b[0;32m    345\u001b[0m \u001b[38;5;28;01melse\u001b[39;00m:\n",
      "File \u001b[1;32mC:\\ProgramData\\Anaconda3\\lib\\site-packages\\pandas_profiling\\profile_report.py:373\u001b[0m, in \u001b[0;36mProfileReport._repr_html_\u001b[1;34m(self)\u001b[0m\n\u001b[0;32m    371\u001b[0m \u001b[38;5;28;01mdef\u001b[39;00m \u001b[38;5;21m_repr_html_\u001b[39m(\u001b[38;5;28mself\u001b[39m):\n\u001b[0;32m    372\u001b[0m     \u001b[38;5;124;03m\"\"\"The ipython notebook widgets user interface gets called by the jupyter notebook.\"\"\"\u001b[39;00m\n\u001b[1;32m--> 373\u001b[0m     \u001b[38;5;28;43mself\u001b[39;49m\u001b[38;5;241;43m.\u001b[39;49m\u001b[43mto_notebook_iframe\u001b[49m\u001b[43m(\u001b[49m\u001b[43m)\u001b[49m\n",
      "File \u001b[1;32mC:\\ProgramData\\Anaconda3\\lib\\site-packages\\pandas_profiling\\profile_report.py:353\u001b[0m, in \u001b[0;36mProfileReport.to_notebook_iframe\u001b[1;34m(self)\u001b[0m\n\u001b[0;32m    351\u001b[0m \u001b[38;5;28;01mwith\u001b[39;00m warnings\u001b[38;5;241m.\u001b[39mcatch_warnings():\n\u001b[0;32m    352\u001b[0m     warnings\u001b[38;5;241m.\u001b[39msimplefilter(\u001b[38;5;124m\"\u001b[39m\u001b[38;5;124mignore\u001b[39m\u001b[38;5;124m\"\u001b[39m)\n\u001b[1;32m--> 353\u001b[0m     display(\u001b[43mget_notebook_iframe\u001b[49m\u001b[43m(\u001b[49m\u001b[38;5;28;43mself\u001b[39;49m\u001b[43m)\u001b[49m)\n",
      "File \u001b[1;32mC:\\ProgramData\\Anaconda3\\lib\\site-packages\\pandas_profiling\\report\\presentation\\flavours\\widget\\notebook.py:65\u001b[0m, in \u001b[0;36mget_notebook_iframe\u001b[1;34m(profile)\u001b[0m\n\u001b[0;32m     63\u001b[0m     output \u001b[38;5;241m=\u001b[39m get_notebook_iframe_src(profile)\n\u001b[0;32m     64\u001b[0m \u001b[38;5;28;01melif\u001b[39;00m attribute \u001b[38;5;241m==\u001b[39m \u001b[38;5;124m\"\u001b[39m\u001b[38;5;124msrcdoc\u001b[39m\u001b[38;5;124m\"\u001b[39m:\n\u001b[1;32m---> 65\u001b[0m     output \u001b[38;5;241m=\u001b[39m \u001b[43mget_notebook_iframe_srcdoc\u001b[49m\u001b[43m(\u001b[49m\u001b[43mprofile\u001b[49m\u001b[43m)\u001b[49m\n\u001b[0;32m     66\u001b[0m \u001b[38;5;28;01melse\u001b[39;00m:\n\u001b[0;32m     67\u001b[0m     \u001b[38;5;28;01mraise\u001b[39;00m \u001b[38;5;167;01mValueError\u001b[39;00m(\n\u001b[0;32m     68\u001b[0m         \u001b[38;5;124mf\u001b[39m\u001b[38;5;124m'\u001b[39m\u001b[38;5;124mIframe Attribute can be \u001b[39m\u001b[38;5;124m\"\u001b[39m\u001b[38;5;124msrc\u001b[39m\u001b[38;5;124m\"\u001b[39m\u001b[38;5;124m or \u001b[39m\u001b[38;5;124m\"\u001b[39m\u001b[38;5;124msrcdoc\u001b[39m\u001b[38;5;124m\"\u001b[39m\u001b[38;5;124m (current: \u001b[39m\u001b[38;5;132;01m{\u001b[39;00mattribute\u001b[38;5;132;01m}\u001b[39;00m\u001b[38;5;124m).\u001b[39m\u001b[38;5;124m'\u001b[39m\n\u001b[0;32m     69\u001b[0m     )\n",
      "File \u001b[1;32mC:\\ProgramData\\Anaconda3\\lib\\site-packages\\pandas_profiling\\report\\presentation\\flavours\\widget\\notebook.py:23\u001b[0m, in \u001b[0;36mget_notebook_iframe_srcdoc\u001b[1;34m(profile)\u001b[0m\n\u001b[0;32m     21\u001b[0m width \u001b[38;5;241m=\u001b[39m config[\u001b[38;5;124m\"\u001b[39m\u001b[38;5;124mnotebook\u001b[39m\u001b[38;5;124m\"\u001b[39m][\u001b[38;5;124m\"\u001b[39m\u001b[38;5;124miframe\u001b[39m\u001b[38;5;124m\"\u001b[39m][\u001b[38;5;124m\"\u001b[39m\u001b[38;5;124mwidth\u001b[39m\u001b[38;5;124m\"\u001b[39m]\u001b[38;5;241m.\u001b[39mget(\u001b[38;5;28mstr\u001b[39m)\n\u001b[0;32m     22\u001b[0m height \u001b[38;5;241m=\u001b[39m config[\u001b[38;5;124m\"\u001b[39m\u001b[38;5;124mnotebook\u001b[39m\u001b[38;5;124m\"\u001b[39m][\u001b[38;5;124m\"\u001b[39m\u001b[38;5;124miframe\u001b[39m\u001b[38;5;124m\"\u001b[39m][\u001b[38;5;124m\"\u001b[39m\u001b[38;5;124mheight\u001b[39m\u001b[38;5;124m\"\u001b[39m]\u001b[38;5;241m.\u001b[39mget(\u001b[38;5;28mstr\u001b[39m)\n\u001b[1;32m---> 23\u001b[0m src \u001b[38;5;241m=\u001b[39m html\u001b[38;5;241m.\u001b[39mescape(\u001b[43mprofile\u001b[49m\u001b[38;5;241;43m.\u001b[39;49m\u001b[43mto_html\u001b[49m\u001b[43m(\u001b[49m\u001b[43m)\u001b[49m)\n\u001b[0;32m     25\u001b[0m iframe \u001b[38;5;241m=\u001b[39m \u001b[38;5;124mf\u001b[39m\u001b[38;5;124m'\u001b[39m\u001b[38;5;124m<iframe width=\u001b[39m\u001b[38;5;124m\"\u001b[39m\u001b[38;5;132;01m{\u001b[39;00mwidth\u001b[38;5;132;01m}\u001b[39;00m\u001b[38;5;124m\"\u001b[39m\u001b[38;5;124m height=\u001b[39m\u001b[38;5;124m\"\u001b[39m\u001b[38;5;132;01m{\u001b[39;00mheight\u001b[38;5;132;01m}\u001b[39;00m\u001b[38;5;124m\"\u001b[39m\u001b[38;5;124m srcdoc=\u001b[39m\u001b[38;5;124m\"\u001b[39m\u001b[38;5;132;01m{\u001b[39;00msrc\u001b[38;5;132;01m}\u001b[39;00m\u001b[38;5;124m\"\u001b[39m\u001b[38;5;124m frameborder=\u001b[39m\u001b[38;5;124m\"\u001b[39m\u001b[38;5;124m0\u001b[39m\u001b[38;5;124m\"\u001b[39m\u001b[38;5;124m allowfullscreen></iframe>\u001b[39m\u001b[38;5;124m'\u001b[39m\n\u001b[0;32m     27\u001b[0m \u001b[38;5;28;01mreturn\u001b[39;00m HTML(iframe)\n",
      "File \u001b[1;32mC:\\ProgramData\\Anaconda3\\lib\\site-packages\\pandas_profiling\\profile_report.py:324\u001b[0m, in \u001b[0;36mProfileReport.to_html\u001b[1;34m(self)\u001b[0m\n\u001b[0;32m    316\u001b[0m \u001b[38;5;28;01mdef\u001b[39;00m \u001b[38;5;21mto_html\u001b[39m(\u001b[38;5;28mself\u001b[39m) \u001b[38;5;241m-\u001b[39m\u001b[38;5;241m>\u001b[39m \u001b[38;5;28mstr\u001b[39m:\n\u001b[0;32m    317\u001b[0m     \u001b[38;5;124;03m\"\"\"Generate and return complete template as lengthy string\u001b[39;00m\n\u001b[0;32m    318\u001b[0m \u001b[38;5;124;03m        for using with frameworks.\u001b[39;00m\n\u001b[0;32m    319\u001b[0m \n\u001b[1;32m   (...)\u001b[0m\n\u001b[0;32m    322\u001b[0m \n\u001b[0;32m    323\u001b[0m \u001b[38;5;124;03m    \"\"\"\u001b[39;00m\n\u001b[1;32m--> 324\u001b[0m     \u001b[38;5;28;01mreturn\u001b[39;00m \u001b[38;5;28;43mself\u001b[39;49m\u001b[38;5;241;43m.\u001b[39;49m\u001b[43mhtml\u001b[49m\n",
      "File \u001b[1;32mC:\\ProgramData\\Anaconda3\\lib\\site-packages\\pandas_profiling\\profile_report.py:152\u001b[0m, in \u001b[0;36mProfileReport.html\u001b[1;34m(self)\u001b[0m\n\u001b[0;32m    149\u001b[0m \u001b[38;5;129m@property\u001b[39m\n\u001b[0;32m    150\u001b[0m \u001b[38;5;28;01mdef\u001b[39;00m \u001b[38;5;21mhtml\u001b[39m(\u001b[38;5;28mself\u001b[39m):\n\u001b[0;32m    151\u001b[0m     \u001b[38;5;28;01mif\u001b[39;00m \u001b[38;5;28mself\u001b[39m\u001b[38;5;241m.\u001b[39m_html \u001b[38;5;129;01mis\u001b[39;00m \u001b[38;5;28;01mNone\u001b[39;00m:\n\u001b[1;32m--> 152\u001b[0m         \u001b[38;5;28mself\u001b[39m\u001b[38;5;241m.\u001b[39m_html \u001b[38;5;241m=\u001b[39m \u001b[38;5;28;43mself\u001b[39;49m\u001b[38;5;241;43m.\u001b[39;49m\u001b[43m_render_html\u001b[49m\u001b[43m(\u001b[49m\u001b[43m)\u001b[49m\n\u001b[0;32m    153\u001b[0m     \u001b[38;5;28;01mreturn\u001b[39;00m \u001b[38;5;28mself\u001b[39m\u001b[38;5;241m.\u001b[39m_html\n",
      "File \u001b[1;32mC:\\ProgramData\\Anaconda3\\lib\\site-packages\\pandas_profiling\\profile_report.py:253\u001b[0m, in \u001b[0;36mProfileReport._render_html\u001b[1;34m(self)\u001b[0m\n\u001b[0;32m    250\u001b[0m \u001b[38;5;28;01mdef\u001b[39;00m \u001b[38;5;21m_render_html\u001b[39m(\u001b[38;5;28mself\u001b[39m):\n\u001b[0;32m    251\u001b[0m     \u001b[38;5;28;01mfrom\u001b[39;00m \u001b[38;5;21;01mpandas_profiling\u001b[39;00m\u001b[38;5;21;01m.\u001b[39;00m\u001b[38;5;21;01mreport\u001b[39;00m\u001b[38;5;21;01m.\u001b[39;00m\u001b[38;5;21;01mpresentation\u001b[39;00m\u001b[38;5;21;01m.\u001b[39;00m\u001b[38;5;21;01mflavours\u001b[39;00m \u001b[38;5;28;01mimport\u001b[39;00m HTMLReport\n\u001b[1;32m--> 253\u001b[0m     report \u001b[38;5;241m=\u001b[39m \u001b[38;5;28;43mself\u001b[39;49m\u001b[38;5;241;43m.\u001b[39;49m\u001b[43mreport\u001b[49m\n\u001b[0;32m    255\u001b[0m     disable_progress_bar \u001b[38;5;241m=\u001b[39m \u001b[38;5;129;01mnot\u001b[39;00m config[\u001b[38;5;124m\"\u001b[39m\u001b[38;5;124mprogress_bar\u001b[39m\u001b[38;5;124m\"\u001b[39m]\u001b[38;5;241m.\u001b[39mget(\u001b[38;5;28mbool\u001b[39m)\n\u001b[0;32m    256\u001b[0m     \u001b[38;5;28;01mwith\u001b[39;00m tqdm(total\u001b[38;5;241m=\u001b[39m\u001b[38;5;241m1\u001b[39m, desc\u001b[38;5;241m=\u001b[39m\u001b[38;5;124m\"\u001b[39m\u001b[38;5;124mRender HTML\u001b[39m\u001b[38;5;124m\"\u001b[39m, disable\u001b[38;5;241m=\u001b[39mdisable_progress_bar) \u001b[38;5;28;01mas\u001b[39;00m pbar:\n",
      "File \u001b[1;32mC:\\ProgramData\\Anaconda3\\lib\\site-packages\\pandas_profiling\\profile_report.py:146\u001b[0m, in \u001b[0;36mProfileReport.report\u001b[1;34m(self)\u001b[0m\n\u001b[0;32m    143\u001b[0m \u001b[38;5;129m@property\u001b[39m\n\u001b[0;32m    144\u001b[0m \u001b[38;5;28;01mdef\u001b[39;00m \u001b[38;5;21mreport\u001b[39m(\u001b[38;5;28mself\u001b[39m):\n\u001b[0;32m    145\u001b[0m     \u001b[38;5;28;01mif\u001b[39;00m \u001b[38;5;28mself\u001b[39m\u001b[38;5;241m.\u001b[39m_report \u001b[38;5;129;01mis\u001b[39;00m \u001b[38;5;28;01mNone\u001b[39;00m:\n\u001b[1;32m--> 146\u001b[0m         \u001b[38;5;28mself\u001b[39m\u001b[38;5;241m.\u001b[39m_report \u001b[38;5;241m=\u001b[39m get_report_structure(\u001b[38;5;28;43mself\u001b[39;49m\u001b[38;5;241;43m.\u001b[39;49m\u001b[43mdescription_set\u001b[49m)\n\u001b[0;32m    147\u001b[0m     \u001b[38;5;28;01mreturn\u001b[39;00m \u001b[38;5;28mself\u001b[39m\u001b[38;5;241m.\u001b[39m_report\n",
      "File \u001b[1;32mC:\\ProgramData\\Anaconda3\\lib\\site-packages\\pandas_profiling\\profile_report.py:127\u001b[0m, in \u001b[0;36mProfileReport.description_set\u001b[1;34m(self)\u001b[0m\n\u001b[0;32m    125\u001b[0m \u001b[38;5;28;01mif\u001b[39;00m \u001b[38;5;28mself\u001b[39m\u001b[38;5;241m.\u001b[39m_description_set \u001b[38;5;129;01mis\u001b[39;00m \u001b[38;5;28;01mNone\u001b[39;00m:\n\u001b[0;32m    126\u001b[0m     _ \u001b[38;5;241m=\u001b[39m \u001b[38;5;28mself\u001b[39m\u001b[38;5;241m.\u001b[39mdf_hash\n\u001b[1;32m--> 127\u001b[0m     \u001b[38;5;28mself\u001b[39m\u001b[38;5;241m.\u001b[39m_description_set \u001b[38;5;241m=\u001b[39m \u001b[43mdescribe_df\u001b[49m\u001b[43m(\u001b[49m\u001b[38;5;28;43mself\u001b[39;49m\u001b[38;5;241;43m.\u001b[39;49m\u001b[43mtitle\u001b[49m\u001b[43m,\u001b[49m\u001b[43m \u001b[49m\u001b[38;5;28;43mself\u001b[39;49m\u001b[38;5;241;43m.\u001b[39;49m\u001b[43mdf\u001b[49m\u001b[43m)\u001b[49m\n\u001b[0;32m    128\u001b[0m \u001b[38;5;28;01mreturn\u001b[39;00m \u001b[38;5;28mself\u001b[39m\u001b[38;5;241m.\u001b[39m_description_set\n",
      "File \u001b[1;32mC:\\ProgramData\\Anaconda3\\lib\\site-packages\\pandas_profiling\\model\\describe.py:59\u001b[0m, in \u001b[0;36mdescribe\u001b[1;34m(title, df)\u001b[0m\n\u001b[0;32m     54\u001b[0m number_of_task \u001b[38;5;241m=\u001b[39m \u001b[38;5;241m7\u001b[39m \u001b[38;5;241m+\u001b[39m \u001b[38;5;28mlen\u001b[39m(df\u001b[38;5;241m.\u001b[39mcolumns) \u001b[38;5;241m+\u001b[39m \u001b[38;5;28mlen\u001b[39m(correlation_names)\n\u001b[0;32m     56\u001b[0m \u001b[38;5;28;01mwith\u001b[39;00m tqdm(\n\u001b[0;32m     57\u001b[0m     total\u001b[38;5;241m=\u001b[39mnumber_of_task, desc\u001b[38;5;241m=\u001b[39m\u001b[38;5;124m\"\u001b[39m\u001b[38;5;124mSummarize dataset\u001b[39m\u001b[38;5;124m\"\u001b[39m, disable\u001b[38;5;241m=\u001b[39mdisable_progress_bar\n\u001b[0;32m     58\u001b[0m ) \u001b[38;5;28;01mas\u001b[39;00m pbar:\n\u001b[1;32m---> 59\u001b[0m     series_description \u001b[38;5;241m=\u001b[39m \u001b[43mget_series_descriptions\u001b[49m\u001b[43m(\u001b[49m\u001b[43mdf\u001b[49m\u001b[43m,\u001b[49m\u001b[43m \u001b[49m\u001b[43mpbar\u001b[49m\u001b[43m)\u001b[49m\n\u001b[0;32m     61\u001b[0m     pbar\u001b[38;5;241m.\u001b[39mset_postfix_str(\u001b[38;5;124m\"\u001b[39m\u001b[38;5;124mGet variable types\u001b[39m\u001b[38;5;124m\"\u001b[39m)\n\u001b[0;32m     62\u001b[0m     variables \u001b[38;5;241m=\u001b[39m {\n\u001b[0;32m     63\u001b[0m         column: description[\u001b[38;5;124m\"\u001b[39m\u001b[38;5;124mtype\u001b[39m\u001b[38;5;124m\"\u001b[39m]\n\u001b[0;32m     64\u001b[0m         \u001b[38;5;28;01mfor\u001b[39;00m column, description \u001b[38;5;129;01min\u001b[39;00m series_description\u001b[38;5;241m.\u001b[39mitems()\n\u001b[0;32m     65\u001b[0m     }\n",
      "File \u001b[1;32mC:\\ProgramData\\Anaconda3\\lib\\site-packages\\pandas_profiling\\model\\summary.py:436\u001b[0m, in \u001b[0;36mget_series_descriptions\u001b[1;34m(df, pbar)\u001b[0m\n\u001b[0;32m    434\u001b[0m \u001b[38;5;66;03m# TODO: use `Pool` for Linux-based systems\u001b[39;00m\n\u001b[0;32m    435\u001b[0m \u001b[38;5;28;01mwith\u001b[39;00m multiprocessing\u001b[38;5;241m.\u001b[39mpool\u001b[38;5;241m.\u001b[39mThreadPool(pool_size) \u001b[38;5;28;01mas\u001b[39;00m executor:\n\u001b[1;32m--> 436\u001b[0m     \u001b[38;5;28;01mfor\u001b[39;00m i, (column, description) \u001b[38;5;129;01min\u001b[39;00m \u001b[38;5;28menumerate\u001b[39m(\n\u001b[0;32m    437\u001b[0m         executor\u001b[38;5;241m.\u001b[39mimap_unordered(multiprocess_1d, args)\n\u001b[0;32m    438\u001b[0m     ):\n\u001b[0;32m    439\u001b[0m         pbar\u001b[38;5;241m.\u001b[39mset_postfix_str(\u001b[38;5;124mf\u001b[39m\u001b[38;5;124m\"\u001b[39m\u001b[38;5;124mDescribe variable:\u001b[39m\u001b[38;5;132;01m{\u001b[39;00mcolumn\u001b[38;5;132;01m}\u001b[39;00m\u001b[38;5;124m\"\u001b[39m)\n\u001b[0;32m    440\u001b[0m         series_description[column] \u001b[38;5;241m=\u001b[39m description\n",
      "File \u001b[1;32mC:\\ProgramData\\Anaconda3\\lib\\multiprocessing\\pool.py:870\u001b[0m, in \u001b[0;36mIMapIterator.next\u001b[1;34m(self, timeout)\u001b[0m\n\u001b[0;32m    868\u001b[0m \u001b[38;5;28;01mif\u001b[39;00m success:\n\u001b[0;32m    869\u001b[0m     \u001b[38;5;28;01mreturn\u001b[39;00m value\n\u001b[1;32m--> 870\u001b[0m \u001b[38;5;28;01mraise\u001b[39;00m value\n",
      "File \u001b[1;32mC:\\ProgramData\\Anaconda3\\lib\\multiprocessing\\pool.py:125\u001b[0m, in \u001b[0;36mworker\u001b[1;34m(inqueue, outqueue, initializer, initargs, maxtasks, wrap_exception)\u001b[0m\n\u001b[0;32m    123\u001b[0m job, i, func, args, kwds \u001b[38;5;241m=\u001b[39m task\n\u001b[0;32m    124\u001b[0m \u001b[38;5;28;01mtry\u001b[39;00m:\n\u001b[1;32m--> 125\u001b[0m     result \u001b[38;5;241m=\u001b[39m (\u001b[38;5;28;01mTrue\u001b[39;00m, func(\u001b[38;5;241m*\u001b[39margs, \u001b[38;5;241m*\u001b[39m\u001b[38;5;241m*\u001b[39mkwds))\n\u001b[0;32m    126\u001b[0m \u001b[38;5;28;01mexcept\u001b[39;00m \u001b[38;5;167;01mException\u001b[39;00m \u001b[38;5;28;01mas\u001b[39;00m e:\n\u001b[0;32m    127\u001b[0m     \u001b[38;5;28;01mif\u001b[39;00m wrap_exception \u001b[38;5;129;01mand\u001b[39;00m func \u001b[38;5;129;01mis\u001b[39;00m \u001b[38;5;129;01mnot\u001b[39;00m _helper_reraises_exception:\n",
      "File \u001b[1;32mC:\\ProgramData\\Anaconda3\\lib\\site-packages\\pandas_profiling\\model\\summary.py:414\u001b[0m, in \u001b[0;36mget_series_descriptions.<locals>.multiprocess_1d\u001b[1;34m(args)\u001b[0m\n\u001b[0;32m    404\u001b[0m \u001b[38;5;124;03m\"\"\"Wrapper to process series in parallel.\u001b[39;00m\n\u001b[0;32m    405\u001b[0m \n\u001b[0;32m    406\u001b[0m \u001b[38;5;124;03mArgs:\u001b[39;00m\n\u001b[1;32m   (...)\u001b[0m\n\u001b[0;32m    411\u001b[0m \u001b[38;5;124;03m    A tuple with column and the series description.\u001b[39;00m\n\u001b[0;32m    412\u001b[0m \u001b[38;5;124;03m\"\"\"\u001b[39;00m\n\u001b[0;32m    413\u001b[0m column, series \u001b[38;5;241m=\u001b[39m args\n\u001b[1;32m--> 414\u001b[0m \u001b[38;5;28;01mreturn\u001b[39;00m column, \u001b[43mdescribe_1d\u001b[49m\u001b[43m(\u001b[49m\u001b[43mseries\u001b[49m\u001b[43m)\u001b[49m\n",
      "File \u001b[1;32mC:\\ProgramData\\Anaconda3\\lib\\site-packages\\pandas_profiling\\model\\summary.py:383\u001b[0m, in \u001b[0;36mdescribe_1d\u001b[1;34m(series)\u001b[0m\n\u001b[0;32m    372\u001b[0m type_to_func \u001b[38;5;241m=\u001b[39m {\n\u001b[0;32m    373\u001b[0m     Variable\u001b[38;5;241m.\u001b[39mTYPE_BOOL: describe_boolean_1d,\n\u001b[0;32m    374\u001b[0m     Variable\u001b[38;5;241m.\u001b[39mTYPE_NUM: describe_numeric_1d,\n\u001b[1;32m   (...)\u001b[0m\n\u001b[0;32m    378\u001b[0m     Variable\u001b[38;5;241m.\u001b[39mTYPE_PATH: describe_path_1d,\n\u001b[0;32m    379\u001b[0m }\n\u001b[0;32m    381\u001b[0m \u001b[38;5;28;01mif\u001b[39;00m series_description[\u001b[38;5;124m\"\u001b[39m\u001b[38;5;124mtype\u001b[39m\u001b[38;5;124m\"\u001b[39m] \u001b[38;5;129;01min\u001b[39;00m type_to_func:\n\u001b[0;32m    382\u001b[0m     series_description\u001b[38;5;241m.\u001b[39mupdate(\n\u001b[1;32m--> 383\u001b[0m         \u001b[43mtype_to_func\u001b[49m\u001b[43m[\u001b[49m\u001b[43mseries_description\u001b[49m\u001b[43m[\u001b[49m\u001b[38;5;124;43m\"\u001b[39;49m\u001b[38;5;124;43mtype\u001b[39;49m\u001b[38;5;124;43m\"\u001b[39;49m\u001b[43m]\u001b[49m\u001b[43m]\u001b[49m\u001b[43m(\u001b[49m\u001b[43mseries\u001b[49m\u001b[43m,\u001b[49m\u001b[43m \u001b[49m\u001b[43mseries_description\u001b[49m\u001b[43m)\u001b[49m\n\u001b[0;32m    384\u001b[0m     )\n\u001b[0;32m    385\u001b[0m \u001b[38;5;28;01melse\u001b[39;00m:\n\u001b[0;32m    386\u001b[0m     \u001b[38;5;28;01mraise\u001b[39;00m \u001b[38;5;167;01mValueError\u001b[39;00m(\u001b[38;5;124m\"\u001b[39m\u001b[38;5;124mUnexpected type\u001b[39m\u001b[38;5;124m\"\u001b[39m)\n",
      "File \u001b[1;32mC:\\ProgramData\\Anaconda3\\lib\\site-packages\\pandas_profiling\\model\\summary.py:264\u001b[0m, in \u001b[0;36mdescribe_1d.<locals>.describe_categorical_1d\u001b[1;34m(series, series_description)\u001b[0m\n\u001b[0;32m    261\u001b[0m stats[\u001b[38;5;124m\"\u001b[39m\u001b[38;5;124mmean_length\u001b[39m\u001b[38;5;124m\"\u001b[39m] \u001b[38;5;241m=\u001b[39m series\u001b[38;5;241m.\u001b[39mstr\u001b[38;5;241m.\u001b[39mlen()\u001b[38;5;241m.\u001b[39mmean()\n\u001b[0;32m    262\u001b[0m stats[\u001b[38;5;124m\"\u001b[39m\u001b[38;5;124mmin_length\u001b[39m\u001b[38;5;124m\"\u001b[39m] \u001b[38;5;241m=\u001b[39m series\u001b[38;5;241m.\u001b[39mstr\u001b[38;5;241m.\u001b[39mlen()\u001b[38;5;241m.\u001b[39mmin()\n\u001b[1;32m--> 264\u001b[0m \u001b[38;5;28;01mfrom\u001b[39;00m \u001b[38;5;21;01mvisions\u001b[39;00m\u001b[38;5;21;01m.\u001b[39;00m\u001b[38;5;21;01mapplication\u001b[39;00m\u001b[38;5;21;01m.\u001b[39;00m\u001b[38;5;21;01msummaries\u001b[39;00m\u001b[38;5;21;01m.\u001b[39;00m\u001b[38;5;21;01mseries\u001b[39;00m\u001b[38;5;21;01m.\u001b[39;00m\u001b[38;5;21;01mtext_summary\u001b[39;00m \u001b[38;5;28;01mimport\u001b[39;00m text_summary\n\u001b[0;32m    266\u001b[0m stats\u001b[38;5;241m.\u001b[39mupdate(text_summary(series))\n\u001b[0;32m    267\u001b[0m stats[\u001b[38;5;124m\"\u001b[39m\u001b[38;5;124mlength\u001b[39m\u001b[38;5;124m\"\u001b[39m] \u001b[38;5;241m=\u001b[39m series\u001b[38;5;241m.\u001b[39mstr\u001b[38;5;241m.\u001b[39mlen()\n",
      "File \u001b[1;32mC:\\ProgramData\\Anaconda3\\lib\\site-packages\\visions\\__init__.py:4\u001b[0m, in \u001b[0;36m<module>\u001b[1;34m\u001b[0m\n\u001b[0;32m      1\u001b[0m \u001b[38;5;124;03m\"\"\"Core functionality\"\"\"\u001b[39;00m\n\u001b[0;32m      2\u001b[0m \u001b[38;5;28;01mfrom\u001b[39;00m \u001b[38;5;21;01mvisions\u001b[39;00m \u001b[38;5;28;01mimport\u001b[39;00m utils\n\u001b[1;32m----> 4\u001b[0m \u001b[38;5;28;01mfrom\u001b[39;00m \u001b[38;5;21;01mvisions\u001b[39;00m\u001b[38;5;21;01m.\u001b[39;00m\u001b[38;5;21;01mdtypes\u001b[39;00m\u001b[38;5;21;01m.\u001b[39;00m\u001b[38;5;21;01mboolean\u001b[39;00m \u001b[38;5;28;01mimport\u001b[39;00m BoolDtype\n\u001b[0;32m      6\u001b[0m \u001b[38;5;28;01mfrom\u001b[39;00m \u001b[38;5;21;01mvisions\u001b[39;00m \u001b[38;5;28;01mimport\u001b[39;00m types, typesets\n\u001b[0;32m      8\u001b[0m \u001b[38;5;28;01mfrom\u001b[39;00m \u001b[38;5;21;01mvisions\u001b[39;00m\u001b[38;5;21;01m.\u001b[39;00m\u001b[38;5;21;01mtypes\u001b[39;00m \u001b[38;5;28;01mimport\u001b[39;00m \u001b[38;5;241m*\u001b[39m\n",
      "File \u001b[1;32mC:\\ProgramData\\Anaconda3\\lib\\site-packages\\visions\\dtypes\\boolean.py:24\u001b[0m, in \u001b[0;36m<module>\u001b[1;34m\u001b[0m\n\u001b[0;32m     13\u001b[0m \u001b[38;5;28;01mfrom\u001b[39;00m \u001b[38;5;21;01mpandas\u001b[39;00m\u001b[38;5;21;01m.\u001b[39;00m\u001b[38;5;21;01mcore\u001b[39;00m\u001b[38;5;21;01m.\u001b[39;00m\u001b[38;5;21;01mdtypes\u001b[39;00m\u001b[38;5;21;01m.\u001b[39;00m\u001b[38;5;21;01mcommon\u001b[39;00m \u001b[38;5;28;01mimport\u001b[39;00m (\n\u001b[0;32m     14\u001b[0m     is_bool_dtype,\n\u001b[0;32m     15\u001b[0m     is_float,\n\u001b[1;32m   (...)\u001b[0m\n\u001b[0;32m     21\u001b[0m     is_scalar,\n\u001b[0;32m     22\u001b[0m )\n\u001b[0;32m     23\u001b[0m \u001b[38;5;28;01mfrom\u001b[39;00m \u001b[38;5;21;01mpandas\u001b[39;00m\u001b[38;5;21;01m.\u001b[39;00m\u001b[38;5;21;01mcore\u001b[39;00m\u001b[38;5;21;01m.\u001b[39;00m\u001b[38;5;21;01mdtypes\u001b[39;00m\u001b[38;5;21;01m.\u001b[39;00m\u001b[38;5;21;01mdtypes\u001b[39;00m \u001b[38;5;28;01mimport\u001b[39;00m register_extension_dtype\n\u001b[1;32m---> 24\u001b[0m \u001b[38;5;28;01mfrom\u001b[39;00m \u001b[38;5;21;01mpandas\u001b[39;00m\u001b[38;5;21;01m.\u001b[39;00m\u001b[38;5;21;01mcore\u001b[39;00m\u001b[38;5;21;01m.\u001b[39;00m\u001b[38;5;21;01mdtypes\u001b[39;00m\u001b[38;5;21;01m.\u001b[39;00m\u001b[38;5;21;01mgeneric\u001b[39;00m \u001b[38;5;28;01mimport\u001b[39;00m ABCIndexClass, ABCSeries\n\u001b[0;32m     25\u001b[0m \u001b[38;5;28;01mfrom\u001b[39;00m \u001b[38;5;21;01mpandas\u001b[39;00m\u001b[38;5;21;01m.\u001b[39;00m\u001b[38;5;21;01mcore\u001b[39;00m\u001b[38;5;21;01m.\u001b[39;00m\u001b[38;5;21;01mdtypes\u001b[39;00m\u001b[38;5;21;01m.\u001b[39;00m\u001b[38;5;21;01mmissing\u001b[39;00m \u001b[38;5;28;01mimport\u001b[39;00m isna, notna\n\u001b[0;32m     27\u001b[0m \u001b[38;5;28;01mfrom\u001b[39;00m \u001b[38;5;21;01mpandas\u001b[39;00m\u001b[38;5;21;01m.\u001b[39;00m\u001b[38;5;21;01mcore\u001b[39;00m \u001b[38;5;28;01mimport\u001b[39;00m nanops, ops\n",
      "\u001b[1;31mImportError\u001b[0m: cannot import name 'ABCIndexClass' from 'pandas.core.dtypes.generic' (C:\\ProgramData\\Anaconda3\\lib\\site-packages\\pandas\\core\\dtypes\\generic.py)"
     ]
    },
    {
     "data": {
      "text/plain": []
>>>>>>> Stashed changes:NLP/NLP Natural Language Processing 공부.ipynb
     },
     "execution_count": 4,
     "metadata": {},
     "output_type": "execute_result"
    }
   ],
   "source": [
    "import pandas_profiling as pp\n",
    "data.profile_report()"
   ]
  },
  {
   "cell_type": "markdown",
<<<<<<< Updated upstream:NLP/01. 자연어처리(natural language processing) 준비하기.ipynb
   "id": "935f40bb",
=======
   "id": "0c6c82cd",
>>>>>>> Stashed changes:NLP/NLP Natural Language Processing 공부.ipynb
   "metadata": {},
   "source": [
    "데이터프레임에 .profile_report()(pandas_profiling.ProfileReport(data)로도 가능)를 사용하여 데이터를 프로파일링한 리포트를 생성할 수 있습니다.   \n",
    "\n",
    "주피터 노트북으로 리포트를 확인할 수도 있겠지만, 위의 .to_file() 명령을 통해 HTML파일로 저장하는 것도 가능합니다.\n",
    "\n",
    "#### 2. 리포트 살펴보기\n",
    "\n",
    "##### (1) 개요(Overview)\n",
    "\n",
    "Overview는 데이터의 전체적인 개요를 보여줍니다. 변수의 수, 데이터의 크기, 결측값 비율, 데이터의 종류는 어떤 것이 있는지를 볼 수 있습니다.\n",
    "\n",
    "Dataset statistics를 살펴보면 해당 데이터는 총 5572개의 행을 가지고 있으며, 5개의 열을 가지고 있습니다. 하나의 값을 셀이라고 하였을 때, 총 5572 x 5 개의 데이터가 존재하지만 16648개(59.8%)의 결측값이 있는 것으로 확인됩니다.\n",
    "\n",
    "##### (2) 변수(Variables)\n",
    "\n",
    "변수는 데이터에 존재하는 모든 특성 변수들에 대한 결측값, 중복을 제외한 유일한 값(unique values)의 개수 등의 통계치를 보여줍니다. 또한 데이터의 내용을 우측 바 그래프로 시각화한 결과를 제공합니다.\n",
    "\n",
    "우선 Unnamed라는 이름을 가진 3개의 열에 대해 알아보겠습니다. 앞서 개요에서 봤듯이 3개의 열 모두 99% 이상의 값이 결측값입니다. 결측값이 아닌 값들은 5572 - 5522 = 50개이며 그 중 중복을 제거한 유일한 값의 개수는 44개입니다. (Distint에서 확인 가능)\n",
    "\n",
    "그 다음은 다른 2개의 열인 v1과 v2를 보겠습니다. v2는 메일의 본문이고, v1은 해당 메일이 정상 메일인지, 스팸 메일인지 유부가 기재되어져 있습니다. v1의 경우 유일한 값의 개수가 2개뿐으로 우측 바 그래프를 통해 4825개가 ham, 747가 spam인 것을 알 수 있습니다. 이는 데이터에서 정상 메일 샘플이 훨씬 많다는 것을 보여줍니다. v2의 경우 5572개의 메일 본문 중에서 중복을 제외하면 5169개의 유일한 내용의 메일 본문을 갖고 있습니다. 그 중 중복이 가장 많은 메일은 Sorry, I'll call later 이라는 내용의 메일로 총 30개의 메일이 존재합니다.\n",
    "\n",
    "또한 v1과 v2 모두 결측값은 존재하지 않는데, 이는 결과적으로 데이터 전처리를 수행할 때, Unnamed라는 3개의 열을 제거하고 나서는 별도의 결측값 전처리는 필요가 없음을 의미합니다.\n",
    "\n",
    "이번에는 각 변수에 있는 상세사항 확인하기(Toggle details)를 알아보겠습니다.\n",
    "\n",
    "##### (3) 상세사항 확인하기(Toggle details)\n",
    "\n",
    "상세사항 확인하기에서는 총 4개의 탭이 존재하는데, 첫번째 탭인 Overview에서는 변수 내용의 문자열 개수, 전체 문자열 개수, 중복 되지 않는 문자열 개수, 유일한 단어 개수 등을 알려줍니다. 이 후 Categories, Word 에서는 데이터의 빈도를 바 그래프로 나타내주고, Characters 에서는 문자열의 빈도를 나타내줍니다.\n",
    "\n"
   ]
  },
  {
   "cell_type": "markdown",
<<<<<<< Updated upstream:NLP/01. 자연어처리(natural language processing) 준비하기.ipynb
   "id": "6209845b",
=======
   "id": "5bcfce3a",
>>>>>>> Stashed changes:NLP/NLP Natural Language Processing 공부.ipynb
   "metadata": {},
   "source": [
    "### 6) 머신 러닝 워크플로우(Machine Learning Workflow)\n",
    "\n",
    "이번에는 데이터 사이언스 또는 머신 러닝과정에서 거치는 전반적인 과정에 대해서 알아보겠습니다. 딥 러닝 또한 머신러닝의 한 갤래로 딥 러닝 워크플로우 또한 머신 러닝 워크플로우로 간주 할 수 있습니다.\n",
    "\n",
    "#### 1. 머신 러닝 워크플로우(Machine Learning Workflow)\n",
    "\n",
    "데이터를 수집하고 머신 러닝을 하는 과정을 크게 6가지로 나누면, 아래의 그림과 같습니다. ![머신_러닝_워크플로우](https://user-images.githubusercontent.com/60602671/187525048-5245e6aa-b0f0-4702-84ab-675e5f0502d8.png)\n",
    "\n",
    "##### (1) 수집(Acquisition)\n",
    "\n",
    "머신 러닝을 하기 위해서는 기계에 학습시켜야 할 데이터가 필요합니다. 자연어처리의 경우, 자연어 데이터를 `말뭉치 또는 코퍼스(corpus)`라고 부르는데 코퍼스의 의미를 풀이하면, 조사나 연구 목적에 의해서 특정 도메인으로부터 수집된 텍스트 집합을 말합니다. 텍스트 데이터의 파일 형식은 txt파일, csv파일, xml파일 등 다야앟며 그 출처도 음성 데이터, 웹 수집기를 통해 수집된 데이터, 영화 리뷰 등 다양합니다.\n",
    "\n",
    "##### (2) 점검 및 탐색(Inspection and exploration)\n",
    "\n",
    "데이터가 수집되었다면, 이제 데이터를 점검하고 탐색하는 단계입니다. 여기서는 데이터의 구조, 노이즈 데이터, 머신 러닝 적용을 위해서 데이터를 어떻게 정제해야하는지 등을 파악합니다.\n",
    "\n",
    "이 단계를 `탐색적 데이터 분석(Exploratory Data Analysis, EDA) 단계`라고도 하는데 이는 독립 변수, 종속 변수, 변수 유형, 변수의 데이터 타입 등을 점검하며 데이터의 특징과 내재하는 구조적 관계를 알아내는 과정을 의미합니다. 이 과정에서 시각화와 간단한 통계 테스트를 진행하기도 합니다.\n",
    "\n",
    "##### (3) 전처리 및 정제(Preprocessing and Cleaning)\n",
    "\n",
    "데이터에 대한 파악이 끝났다면, 머신 러닝 워크플로우에서 가장 까다로운 작업 중 하나인 데이터 전처리 과정에 들어갑니다. 이 단계는 많은 단계를 포함하고 있는데, 가령 자연어 처리라면 토큰화, 전제, 정규화, 불용어 제거 등의 단계를 포함합니다. 빠르고 정확한 데이터 전처리를 하기 위해서는 사용하고 있는 툴(python)에 대한 다양한 라이브러리에 대한 지식이 필요합니다. 정말 까다로운 전처리의 경우에는 전처리 과정에서 머신 러닝이 사용되기도 합니다. \n",
    "\n",
    "##### (4) 모델링 및 훈련(Modeling and Training)\n",
    "\n",
    "데이터 전처리가 끝났다면, 머신 러닝에 대한 코드를 작성하는 단계인 모델링 단계에 들어갑니다. 적절한 머신 러닝 알고리즘을 선택하여 모델링이 끝났다면, 전처리가 완료 된 데이터를 머신 러닝 알고리즘을 통해 기계에서 학습시킵니다. 기계가 데이터에 대한 학습을 마치고나서 훈련이 제대로 되었다면 그 후에 기계는 우리가 원하는 태스크인 기계 번역, 음석 인식, 텍스트 분류 등의 처리 작업을 수행할 수 있게 됩니다.\n",
    "\n",
    "여기서 주의해야 할 점은 대부분의 경우에서 모든 데이터를 기계에서 학습시켜서는 안된다는 점입니다. 데이터 중 일부는 테스트용으로 남겨두고 훈련용 데이터만 훈련에 사용해야 합니다. 그래야만 기계가 학습을 하고나서, 테스트용 데이터를 통해서 현재 성능이 얼마나 되는지를 측정할 수 있으며, 과적합(overfitting) 상황을 막을 수 있습니다. 사실 최선은 훈련용, 테스트용 두 가지만 나누는 것보다는 훈련용, 검증용, 테스트용으로 데이터를 이렇게 세가지로 나누고, 훈련용 데이터만 훈련에 사용하는 것입니다.\n",
    "\n",
    "![데이터](https://user-images.githubusercontent.com/60602671/187543147-bc9100c6-dc28-43b6-af47-7746f0bf687e.png)\n",
    "\n",
    "검증용 데이터는 현재 모델의 성능. 즉, 기계가 훈련용 데이터로 얼마나 제대로 학습이 되었는지를 판단하는 용으로 사용되며 검증용 데이터를 사용하여 모델의 성능을 개선하는데 사용됩니다. 테스트용 데이터는 모델의 최종 성능을 평가하는 데이터로 모델의 성능을 개선하는 일에 사용되는 것이 아니라, 모델의 성능을 수치화하여 평가하기 위해 사용됩니다.\n",
    "\n",
    "실습 상황에 따라서 훈련용, 검증용, 테스트용 세 가지를 모두 사용하거나 때로는 훈련용, 테스트용 두 가지만 사용하기도 합니다. 하지만 현업에서 최선은 검증용 데이터 또한 사용하는 것임을 기억해둡시다.\n",
    "\n",
    "##### (5) 평가(Evaluation)\n",
    "\n",
    "기계가 다 학습이 되었다면 테스트용 데이터로 성능을 평가하게 됩니다. 평가 방법은 기계가 예측한 데이터가 테스트용의 실제 정답과 얼마나 가까운지를 측정합니다.\n",
    "\n",
    "##### (6) 배포(Deployment)\n",
    "\n",
    "평가 단계에서 기계가 성공적으로 훈련이 된 것으로 판단된다면 완성된 모델이 배포되는 단계가 됩니다. 다만, 여기서 완성된 모델에 대한 전체적인 피드백으로 인해 모델을 업데이트해야 하는 상황이 온다면 수집 단계로 돌아갈 수 있습니다."
   ]
<<<<<<< Updated upstream:NLP/01. 자연어처리(natural language processing) 준비하기.ipynb
=======
  },
  {
   "cell_type": "markdown",
   "id": "1f8ca45c",
   "metadata": {},
   "source": [
    "## 02. 텍스트 전처리(Text Preprocessing)\n",
    "\n",
    "텍스트 전처리는 풀고자 하는 문데의 용도에 맞게 텍스트를 사전에 처리하는 작업입니다. 텍스트에 제대로 전처리를 하지 않으면 뒤에서 배울 자연어 처리 기법들이 제대로 동작하지 않습니다. 이번 챕터에서는 텍스트를 위한 다양한 전처리 방법들에 대해서 다룹니다.\n",
    "\n",
    "### 1) 토큰화(Tokenization)\n",
    "\n",
    "자연어 처리에서 크롤링 드응로 얻어낸 코퍼스 데이터가 필요에 맞게 전처리됮 않은 상태라면, 해당 데이터를 사용하고자하는 용도에 맞게 토큰화, 정제, 정규화 하는 일을 하게 됩니다. 이번에는 그 중에서도 토큰화에 대해서 학습합니다. \n",
    "\n",
    "주어진 코퍼스에서 토큰이라 불리는 단위로 나누는 작업을 토큰화라고 합니다. 토큰의 단위가 상황에 따라 다르지만, 보통 의미있는 단위로 토큰을 정의합니다. 여기서는 토큰화에 대한 발생할 수 있는 여러가지 상황에 대해서 언급하여 토큰화에 댛나 캐념을 이해합니다. 이어서 NLTK, KoNLPy를 통해 실습을 진행하며 토큰화를 수행합니다.\n",
    "\n",
    "#### 1. 단어 토큰화(Word Tokenizaion)\n",
    "\n",
    "토큰의 기준을 단어(Word)로 하는 경우, 단어 토큰화라고 합니다. 다만, 여기서 단어는 단어 단위 외에도 단어구, 의미를 갖는 문자열로도 간주되기도 합니다.\n",
    "\n",
    "예를들어 아래의 입력으로부터 구두점(마침표, 쉼표, 물음표, 느낌표, 세미클론 등)과 같은 문자는 제외시키는 간단한 단어 토큰화 작업을 해봅십다.\n",
    "\n",
    "입력 : Time is an illusion. Lunchtime double so!\n",
    "\n",
    "이러한 입력으로부터 구두점을 제외시킨 토큰화 작업의 결과는 다음과 같습니다.\n",
    "\n",
    "출력 : \"Time\", \"is\", \"an\", \"illusion\", \"Lunchtime\", \"double\", \"so\"\n",
    "\n",
    "보통 토큰화 작업은 단순히 구두점이나 특수문자를 전부 제거하는 정제작업을 수행하는 것만으로 해결되지 않습니다. 구두점이나 특수문자를 전부 제거하면 토큰이 의미를 잃어버리는 경우가 발생하기도 합니다. 심지어 띄어쓰기 단위로 자르면 사실상 단어 톸느이 구분되는 영어와 달리, 한국어는 띄어쓰기만으로는 단어 토큰을 구분하기 어렵습니다.\n",
    "\n",
    "#### 2. 토큰화 중 생기는 선택의 순간\n",
    "\n",
    "토큰화를 하다보면, 예상하지 못한 경우가 있어서 토큰화의 기준을 생각해봐야하는 경우가 발생합니다. 물론, 이러한 선택은 해당 ㄷ이터를 가지고 어떤 용도로 사용할 것인지에 따라서 그 용도에 영향이 없는 기준으로 정하면 됩니다. 예를들어 영어권 언어에서 아포스트로피(')가 들어가있는 단어는 어떻게 토큰으로 분류해야 하는지에 대한 선택의 문제를 보여드리겠습니다. \n",
    "\n",
    "다음과 같은 문장이 있다고 해봅시다.  \n",
    "`Don't be fooled by the dark sounding name, Mr.Jone's Orphanage is as cheery as cheery goes for a pastry shop.`\n",
    "\n",
    "아포스트로피가 들어간 상황에서 Don't와 Jone's는 어떻게 토큰화할 수 있는지 보겠습니다.\n",
    "\"Don't\", \"Don t\", \"Dont\", \"Do n't\",\"Jone's\", \"Jone s\", \"Jone\", \"Jones\"\n",
    "\n",
    "이 중 사용자가 원하는 결과가 나오도록 토큰화 도구를 직접 설계할 수도 있겠지만, 기존의 공개된 도구들을 사용하였을 때의 결과가 사용자의 목적과 일치한다면 해당 도구를 사용할 수도 있을 것ㅇ비니다. NLTK는 영어 코퍼스를 토큰화하기 위한 도구들을 제공합니다. 그 중 word_tokenize와 WordPunctTokenizer를 사용해서 아포스트로피를 어떻게 처리하는지 확인해보겠습니다."
   ]
  },
  {
   "cell_type": "code",
   "execution_count": 2,
   "id": "214f0948",
   "metadata": {},
   "outputs": [],
   "source": [
    "from nltk.tokenize import word_tokenize\n",
    "from nltk.tokenize import WordPunctTokenizer\n",
    "from tensorflow.keras.preprocessing.text import text_to_word_sequence"
   ]
  },
  {
   "cell_type": "code",
   "execution_count": 7,
   "id": "37462529",
   "metadata": {},
   "outputs": [
    {
     "name": "stdout",
     "output_type": "stream",
     "text": [
      "단어 토큰화1 :  ['Do', \"n't\", 'be', 'fooled', 'by', 'the', 'dark', 'sounding', 'name', ',', 'Mr.', 'Jone', \"'s\", 'Orphanage', 'is', 'as', 'cheery', 'as', 'cheery', 'goes', 'for', 'a', 'pastry', 'shop', '.']\n"
     ]
    }
   ],
   "source": [
    "# 이전에 import nltk, nltk.download('punkt')를 아나콘다크롬프트에 해주자!\n",
    "\n",
    "print('단어 토큰화1 : ', word_tokenize(\"Don't be fooled by the dark sounding name, Mr. Jone's Orphanage is as cheery as cheery goes for a pastry shop.\"))"
   ]
  },
  {
   "cell_type": "markdown",
   "id": "836184b9",
   "metadata": {},
   "source": [
    "word_toenize는 Don't를 Do와 n't로 분리하였으며, 반면 Jone's는 Jone과 's로 분리한 것을 확인할 수 있습니다."
   ]
  },
  {
   "cell_type": "code",
   "execution_count": 8,
   "id": "bfe72873",
   "metadata": {},
   "outputs": [
    {
     "name": "stdout",
     "output_type": "stream",
     "text": [
      "단어 토큰화2 :  ['Don', \"'\", 't', 'be', 'fooled', 'by', 'the', 'dark', 'sounding', 'name', ',', 'Mr', '.', 'Jone', \"'\", 's', 'Orphanage', 'is', 'as', 'cheery', 'as', 'cheery', 'goes', 'for', 'a', 'pastry', 'shop', '.']\n"
     ]
    }
   ],
   "source": [
    "print('단어 토큰화2 : ', WordPunctTokenizer().tokenize(\"Don't be fooled by the dark sounding name, Mr. Jone's Orphanage is as cheery as cheery goes for a pastry shop.\"))"
   ]
  },
  {
   "cell_type": "markdown",
   "id": "054c603d",
   "metadata": {},
   "source": [
    "WordPunctTokenizer는 구두점을 별도로 분류하는 특징을 갖고 있기 때문에, Don't를 Don ' t로 분리하였으며, 마찬가지로 Jone's를 Jone ' s로 분리한 것을 확인할 수 있습니다. 케라스 또한 토큰화 도구로서 text_to_word_sequence를 지원합니다."
   ]
  },
  {
   "cell_type": "code",
   "execution_count": 4,
   "id": "e35edf55",
   "metadata": {},
   "outputs": [
    {
     "name": "stdout",
     "output_type": "stream",
     "text": [
      "단어 토큰화3 :  [\"don't\", 'be', 'fooled', 'by', 'the', 'dark', 'sounding', 'name', 'mr', \"jone's\", 'orphanage', 'is', 'as', 'cheery', 'as', 'cheery', 'goes', 'for', 'a', 'pastry', 'shop']\n"
     ]
    }
   ],
   "source": [
    "print('단어 토큰화3 : ', text_to_word_sequence(\"Don't be fooled by the dark sounding name, Mr. Jone's Orphanage is as cheery as cheery goes for a pastry shop. \"))"
   ]
  },
  {
   "cell_type": "markdown",
   "id": "2ee8112a",
   "metadata": {},
   "source": [
    "케라스의 text_to_word_sequence는 기본적으로 모든 알파벳을 소문자로 바꾸면서 마침표나 쉼표, 느낌표 등의 구두점을 제거합니다. 하지만 Don't나 Jone's와 같은 경우 아포스트로피는 보존하는 것을 볼 수 있습니다.\n",
    "\n",
    "#### 3. 토큰화에서 고려해야할 사항\n",
    "\n",
    "토큰화 작업을 단순하게 코퍼스에서 구두점을 제외하고 공백 기준으로 잘라내는 작업이라고 간주할 수는 없습니다. 이러한 일은 보다 섬세한 알고리즘이 필요한데 그 이유를 정리해봅시다.\n",
    "\n",
    "##### (1) 구두점이나 특수 문자를 단순 제외해서는 안 된다.\n",
    "\n",
    "갖고있는 코퍼스에서 단어들을 걸러낼 때, 구두점이나 특수 문자를 단순히 제외하는 것은 옳지 않습니다. 코퍼스에 대한 정제 작업을 진행하다보면, 구두점조차도 하나의 토큰으로 분류하기도 합니다. 가장 기본적인 예를 들어보자면, 마침표와 같은 경우에는 문장의 경계를 알 수 있는데 도움이 되므로 단어를 뽑아낼 때, 마침표를 제외하지 않을 수 있습니다.\n",
    "\n",
    "##### (2) 줄임말과 단어 내에 띄어쓰기가 있는 경우.\n",
    "\n",
    "토큰화 작업에서 종종 영어권 언어의 아포스트로피는 압축된 단어를 다시 펼치는 역할을 하기도 합니다. 예를들어 what're는 waht are의 줄임말이며, we're는 we are의 줄임말입니다. 위의 예에서 re를 접어(clitic)라고 합니다. 즉, 단어가 줄임말로 쓰일 때 생기는 형태를 말합니다. \n",
    "\n",
    "New York이라는 단어나 rock'n roll이라는 단어를 봅시다. 이 단어들은 하나의 단어이지만 중간에 띄어쓰기가 존재합니다. 사용 용도에 따라서, 하나의 단어 사이에 띄어쓰기가 있는 경우에는 하나의 토큰으로 봐야하는 경우도 있을 수 있으므로, 토큰화 작업은 저러한 단어를 하나로 인식할 수 있는 능력도 가져야합니다.\n",
    "\n",
    "##### (3) 표준 토큰화 예제\n",
    "\n",
    "이해를 돕기 위해 표준으로 쓰이고 있는 토큰화 방법 중 하나인 Penn Treebank Tokenization 의 규칙에 대해서 소개하고, 토큰화의 결과를 확인해보겠습니다.\n",
    "\n",
    "* 규칙 1. 하이푼(-)으로 구성된 단어는 하나로 유지한다.\n",
    "* 규칙 2. doesn't와 같이 아포스트로피(')로 접어가 함께하는 단어는 분리해준다.\n",
    "\n",
    "해당 표준에 아래의 문장을 입력으로 넣어봅시다.  \n",
    "`\"Starting a home-based restaurant may be an ideal. it doesn't have a food chainor restaurant of their own\"`"
   ]
  },
  {
   "cell_type": "code",
   "execution_count": 8,
   "id": "c8049243",
   "metadata": {},
   "outputs": [
    {
     "name": "stdout",
     "output_type": "stream",
     "text": [
      "트리뱅크 워드토크나이저 :  ['Starting', 'a', 'home-based', 'restaurant', 'may', 'be', 'an', 'ideal.', 'it', 'does', \"n't\", 'have', 'a', 'food', 'chainor', 'restaurant', 'of', 'their', 'own']\n"
     ]
    }
   ],
   "source": [
    "from nltk.tokenize import TreebankWordTokenizer\n",
    "\n",
    "tokenizer = TreebankWordTokenizer()\n",
    "\n",
    "text = \"\"\"Starting a home-based restaurant may be an ideal. it doesn't have a food\n",
    "chainor restaurant of their own\"\"\"\n",
    "\n",
    "print('트리뱅크 워드토크나이저 : ', tokenizer.tokenize(text))"
   ]
  },
  {
   "cell_type": "markdown",
   "id": "68938961",
   "metadata": {},
   "source": [
    "결과를 보면, 각각 규칙1과 규칙2에 따라서 home-based는 하나의 토큰으로 취급하고 있으며, donsen't의 경우 does와 n't로 분리되었음을 볼 수 있습니다.\n",
    "\n",
    "#### 4. 문장 토큰화(Sentence Tokenization)\n",
    "\n",
    "이번에는 토큰의 단위가 문장(Sentence)일 경우를 논의해보겠습니다. 이 작업은 갖고있는 코퍼스 내에서 문장 단위로 구분하는 작업으로 때로는 문장 분류(sentence segmentation)라고도 부릅니다. 보통 갖고있는 코퍼스가 정제되지 않은 상태라면, 코퍼스는 문장 단위로 구분되어 있지 않아서 이를 사용하고자 하는 용도에 맞게 문장 토큰화가 필요할 수 있습니다.\n",
    "\n",
    "직관적으로 생각해봤을 때는 ?나 마침표나 ! 기준으로 문장을 잘라내면 주어진 코퍼스로부터 문장 단위로 분류할 수 있지 않을까 싶지만, 꼭 그렇지만은 않습니다. !나 ?는 문장의 구분을 위한 꽤 명확한 구분자(boundary) 역할을 하지만 마침표는 그렇지 않기 때문입니다. 마침표는 문장의 끝이 아니더라도 등장할 수 있습니다.\n",
    "\n",
    "예 : `IP 192.168.56.31 서버에 들어가서 로그 파일 저장해서 ass@gmail.com로 결과 좀 보내줘. 그 후 점심 먹으러 가자.`\n",
    "\n",
    "위의 예제에 마침표를 기준으로 문장 토큰화를 적용해본다면 보내줘.에서 처음으로 문장이 끝난 것으로 인식하는 것이 제대로 문장의 끝을 예측했다고 볼 수 있습니다. 하지만 단순히 마침표로 문장을 구분짓는다고 가정하면, 문장의 끝이 나오기 전에 이미 마침표가 여러번 등장하여 예상한 결과가 나오지 않게 됩니다. \n",
    "\n",
    "사용하는 코퍼스가 어떤 국적의 언어인지, 또는 해당 코퍼스 내에서 특수문자들이 어떻게 사용되고 있는지에 따라서 직접 규칙들을 정의해볼 수 있습니다. 100% 정확도를 얻는 일은 쉬운 일이 아닌데, 갖고있는 코퍼스 데이터에 오타나, 문장의 구성이 엉망이라면 정해놓은 규칙이 소용이 없을 수 있기 때문입니다. \n",
    "\n",
    "NLTK에서는 영어 문장의 토큰화를 수행하는 sent_tokenize를 지원하고 있습니다. NLTK를 통해 문장 토큰화를 실습해보겠습니다."
   ]
  },
  {
   "cell_type": "code",
   "execution_count": 10,
   "id": "923d2b41",
   "metadata": {},
   "outputs": [
    {
     "name": "stdout",
     "output_type": "stream",
     "text": [
      "문장 토큰화1 :  ['His barber kept his word.', 'But keeping such a huge secret to himself was driving him craze.', 'Finally, the barber went up a mountain and almost to the edge of a cliff.', 'He dug a hole in the midst of some reeds.', 'He looked about, to mak sure no ne was near.']\n"
     ]
    }
   ],
   "source": [
    "from nltk.tokenize import sent_tokenize\n",
    "\n",
    "text = \"His barber kept his word. But keeping such a huge secret to himself was driving him craze. Finally, the barber went up a mountain and almost to the edge of a cliff. He dug a hole in the midst of some reeds. He looked about, to mak sure no ne was near.\"\n",
    "\n",
    "print('문장 토큰화1 : ', sent_tokenize(text))"
   ]
  },
  {
   "cell_type": "markdown",
   "id": "3f1c0334",
   "metadata": {},
   "source": [
    "위 코드는 text에 저장된 여러 개의 문장들로부터 문장을 구분하는 코드입니다. 출력 결과를 보면 성공적으로 모든 문장을 구분해내었음을 볼 수 있습니다. 그렇다면 이번에는 문장 중간에 마침표가 다수 등장하는 경우에 대해서도 실습해보겠습니다."
   ]
  },
  {
   "cell_type": "code",
   "execution_count": 12,
   "id": "6e378d52",
   "metadata": {},
   "outputs": [
    {
     "name": "stdout",
     "output_type": "stream",
     "text": [
      "문장 토큰화2 :  ['I am actively looking forPh.D students.', 'and you ar a Ph.D student.']\n"
     ]
    }
   ],
   "source": [
    "text = \"I am actively looking forPh.D students. and you ar a Ph.D student.\"\n",
    "\n",
    "print(\"문장 토큰화2 : \", sent_tokenize(text))"
   ]
  },
  {
   "cell_type": "markdown",
   "id": "a4bea3b1",
   "metadata": {},
   "source": [
    "NLTK는 단순히 마침표를 구분자로 하여 문장을 구분하지 않았기 때문에, PH.D를 문장 내의 단어로 인식하여 성공적으로 인식하는 것을 볼 수 있습니다.  \n",
    "\n",
    "한국어에 대한 문장 토큰화 도구 또한 존재합니다. 한국어의 경우에는 박상길님이 개발한 KSS(Korean Sentence Splitter)를 추천합니다. 다음과 같이 KSS를 설치합니다.\n",
    "\n",
    "```python\n",
    "pip install kss\n",
    "```"
   ]
  },
  {
   "cell_type": "code",
   "execution_count": 1,
   "id": "c62a94b6",
   "metadata": {},
   "outputs": [
    {
     "name": "stderr",
     "output_type": "stream",
     "text": [
      "[Korean Sentence Splitter]: Initializing Pynori...\n"
     ]
    },
    {
     "name": "stdout",
     "output_type": "stream",
     "text": [
      "한국어 문장 토큰화 :  ['딥 러닝 자연어 처리가 재미있기는 합니다.', '그런데 문제는 영어보다 한국어로 할 때 너무 어렵습니다.', '이제 해보면 알걸요?']\n"
     ]
    }
   ],
   "source": [
    "import kss\n",
    "\n",
    "text = '딥 러닝 자연어 처리가 재미있기는 합니다. 그런데 문제는 영어보다 한국어로 할 때 너무 어렵습니다. 이제 해보면 알걸요?'\n",
    "print('한국어 문장 토큰화 : ',kss.split_sentences(text))"
   ]
  },
  {
   "cell_type": "markdown",
   "id": "39582667",
   "metadata": {},
   "source": [
    "#### 5. 한국어에서의 토큰화의 어려움.\n",
    "\n",
    "영어는 New York과 같은 합성어나 he's 와 같은 줄임말에 대한 예외처리만 한다면, 띄어쓰기를 기준으로 하는 띄어쓰기 토큰화를 수행해도 단어 토큰화가 잘 작동합니다. 거의 대부분의 경우에서 단어 단위로 띄어쓰기가 이루어지기 때문에 띄어쓰기 토큰화에 단어 토큰화가 거의 같기 때문입니다.\n",
    "\n",
    "하지만 한국어는 영어와는 달리 띄어쓰기만으로는 토큰화를 하기에 부족합니다. 한국어의 경우에는 띄어쓰기 단위가 되는 단위를 `어절`이라고 하는데 어절 토큰화는 한국어 NLP에서 지양되고 있습니다. 어절 토큰화와 단어 토큰화는 같지 않기 때문입니다. 그 근본적인 이유는 한국어가 영어와는 다른 형태를 가지는 언어인 교착어라는 점에서 기인합니다. 교착어란 조사, 어미 등을 붙여서 말을 만드는 언어를 말합니다.\n",
    "\n",
    "##### (1) 교착어의 특성\n",
    "\n",
    "영어와는 달리 한국어에는 조사라는 것이 존재합니다. 예를들어 한국에 그라는 주어나 목적어가 들어간 문장이 있다고 합시다. 이 경우, 그라는 단어 하나에도 '그가', '그에게', '그를', '그는' 과 같이 다양한 조사가 '그'라는 글자 뒤에 띄어쓰기 없이 바로 붙게 됩니다. 자연어 처리를 하다보면 같은 단어임에도 서로 다른 조사가 붙어서 다른 단어로 인식이 되면 자연어 처리가 힘들고 번거로워지는 경우가 많습니다. 대부분의 한국어 NLP에서 조사는 분리해줄 필요가 있습니다.  \n",
    "\n",
    "띄어쓰기 단위가 영어처럼 독립적인 단어라면 띄어쓰기 단위로 토큰화를 하면 되겠지만 한국어는 어절이 독립적인 단어로 구성되는 것이 아니라 조사 등의 무언가가 붙어있는 경우가 많아서 이를 전부 분리해줘야 한다는 의미입니다.\n",
    "\n",
    "한국어 토큰화에서는 `형태소(morpheme)`라는 개념을 반드시 이해해야 합니다. 형태소란 뜻을 가진 가장 작은 말의 단위를 말합니다. 이 형태소에는 두 가지 형태소가 있는데 잘비 형태소와 의존 형태소입니다. \n",
    "\n",
    "* `자립 형태소` : 접사, 어미, 조사와 상관없이 자립하여 사용할 수 있는 형태소. 그 자체로 단어가 된다. 체언(명사, 대명사, 수사), 수식언(관형사, 부사), 감탄사 등이 있다.\n",
    "* `의존 형태소` : 다른 형태소와 결합하여 사용되는 형태소. 접사, 어미, 조사, 어간 등을 말한다.\n",
    "\n",
    "예를들어 다음과 같은 문장이 있다고 합시다.\n",
    "\n",
    "* 문장 : 에디가 책을 읽었다.\n",
    "\n",
    "이 문장을 띄어쓰기 단위로 토큰화를 수행한다면 다음과 같은 결과를 얻습니다.  \n",
    "`'에디가', '책을', '읽었다']`  \n",
    "하지만 이를 형태소 단위로 분해하면 다음과 같습니다.  \n",
    "자립 형태소 : 에디, 책  \n",
    "의존 형태소 : -가, -을, 읽-, -었, -다 \n",
    "\n",
    "'에디'라는 사람 이름과 '책'이라는 명사를 얻어낼 수 있습니다. 이를 통해 유추할 수 있는 것은 한국어에서 영어에서의 단어 토큰화와 유사한 형태를 얻으려면 어절 토늨화가 아니라 형태소 토큰화를 수행해야 한다는 겁니다.  \n",
    "\n",
    "##### (2) 한국어는 띄어쓰기가 영어보다 잘 지켜지지 않는다.  \n",
    "\n",
    "사용하는 한국어 코퍼스가 뉴스 기사와 같이 띄어쓰기를 철저하게 지키려고 노력하는 글이라면 좋겠지만, 많은 경우에 띄어쓰기가 틀렸거나 지켜지지 않는 코퍼스가 많습니다.  \n",
    "\n",
    "한국어는 영어권 언어와 비교하여 띄어쓰기가 어렵고 잘 지켜지지 않는 경향이 있습니다. 그 이유는 여러 견해가 있으나, 가장 기본적인 견해는 한국어의 경우 띄어쓰기가 지켜지지 않아도 글을 쉽게 이해할 수 있는 언어라는 점입니다.\n",
    "\n",
    "#### 6. 품사 태깅(Part-of-speech tagging)\n",
    "\n",
    "단어는 표기는 같지만 품사에 따라서 단어의 의미가 달라지기도 합니다. 예를 들어서 영어 단어 'fly'는 동사로는 '날다'라는 의미를 갖지만, 명사로는 '파리'라는 의미를 갖고있습니다. 한국어도 마찬가집니다. '못'이라는 단어는 명사로서는 망치를 사용해서 목재 따위를 고정하는 물건을 의미합니다. 하지만 부사로서의 '못'은 '먹는다', '달린다'와 같은 동작 동사를 할 수 없다는 의미로 쓰입니다. 결국 단어의 의미를 제대로 파악하기 위해서는 해당 단어가 어떤 품사로 쓰였는지 보는 것이 주요 지표가 될 수도 있습니다. 그에 따라 <u>단어 토큰화 과정에서 각 단어가 어떤 품사로 쓰였는지를 구분해놓기도 하는데</u>, 이 작업을 `품사 태킹(part-of-speech tagging)`이라고 합니다.\n",
    "\n",
    "#### 7. NLTK와 KoNLPy를 이용한 영어, 한국어 토큰화 실습\n",
    "\n",
    "NLTK에서는 Penn Treebank POS Tags라는 기준을 사용하여 품사를 태깅합니다. [링크](https://www.ling.upenn.edu/courses/Fall_2003/ling001/penn_treebank_pos.html)"
   ]
  },
  {
   "cell_type": "code",
   "execution_count": 4,
   "id": "b1cc7701",
   "metadata": {},
   "outputs": [
    {
     "name": "stdout",
     "output_type": "stream",
     "text": [
      "단어 토큰화 :  ['I', 'am', 'actively', 'looking', 'for', 'Ph.D.', 'students', '.', 'and', 'you', 'are', 'a', 'Ph.D.', 'student', '.']\n",
      "품사 태킹 :  [('I', 'PRP'), ('am', 'VBP'), ('actively', 'RB'), ('looking', 'VBG'), ('for', 'IN'), ('Ph.D.', 'NNP'), ('students', 'NNS'), ('.', '.'), ('and', 'CC'), ('you', 'PRP'), ('are', 'VBP'), ('a', 'DT'), ('Ph.D.', 'NNP'), ('student', 'NN'), ('.', '.')]\n"
     ]
    }
   ],
   "source": [
    "# 이전에 import nltk, nltk.download('averaged_perceptron_tagger')를 아나콘다크롬프트에 해주자!\n",
    "\n",
    "from nltk.tokenize import word_tokenize\n",
    "from nltk.tag import pos_tag\n",
    "\n",
    "text = \"I am actively looking for Ph.D. students. and you are a Ph.D. student.\"\n",
    "tokenized_sentence = word_tokenize(text)\n",
    "\n",
    "print('단어 토큰화 : ', tokenized_sentence)\n",
    "print('품사 태킹 : ',pos_tag(tokenized_sentence))"
   ]
  },
  {
   "cell_type": "markdown",
   "id": "3c4fd0ab",
   "metadata": {},
   "source": [
    "영어 문장에 대해서 토큰화를 수행한 결과를 입력으로 품사 태깅을 수행하였습니다. Penn Treebank POS tags에서 PRP는 인칭 대명사, VBP는 동사, RB는 부사, VBG는 현재부사, IN은 전치사, NNP는 고유 명사, NNS는 복수형 명사, CC는 접속사, DT는 관사를 의미합니다.\n",
    "\n",
    "한국어 자연어 처리를 위해서는 KoNLPy라는 파이썬 패키지를 사용할 수 있습니다. KoNLPy를 통해서 사용할 수 있는 현태소 분석기로 OKT(Open Korea Text), 메캅(Mecab), 코모란(Komoran), 한나눔(Hannanum), 꼬꼬마(KKMa)가 있습니다.\n",
    "\n",
    "한국어 NLP에서 형태소 분석기를 사용하여 단어 토큰화. 더 정확히는 형태소 토큰화(morpheme tokenization)를 수행해보겠습니다. 여기서는 OKT와 꼬꼬마 두 개의 형태소 분석기를 사용하여 토큰화를 수행하겠습니다."
   ]
  },
  {
   "cell_type": "code",
   "execution_count": 2,
   "id": "f2854f8e",
   "metadata": {},
   "outputs": [
    {
     "name": "stdout",
     "output_type": "stream",
     "text": [
      "OKT 형태소 분석 :  ['열심히', '코딩', '한', '당신', ',', '연휴', '에는', '여행', '을', '가봐요']\n",
      "OKT 품사 태깅 :  [('열심히', 'Adverb'), ('코딩', 'Noun'), ('한', 'Josa'), ('당신', 'Noun'), (',', 'Punctuation'), ('연휴', 'Noun'), ('에는', 'Josa'), ('여행', 'Noun'), ('을', 'Josa'), ('가봐요', 'Verb')]\n",
      "OKT 명사 추출 :  ['코딩', '당신', '연휴', '여행']\n"
     ]
    }
   ],
   "source": [
    "from konlpy.tag import Okt\n",
    "from konlpy.tag import Kkma\n",
    "\n",
    "okt = Okt()\n",
    "kkma = Kkma()\n",
    "\n",
    "print('OKT 형태소 분석 : ', okt.morphs(\"열심히 코딩한 당신, 연휴에는 여행을 가봐요\"))\n",
    "print('OKT 품사 태깅 : ', okt.pos(\"열심히 코딩한 당신, 연휴에는 여행을 가봐요\"))\n",
    "print('OKT 명사 추출 : ', okt.nouns(\"열심히 코딩한 당신, 연휴에는 여행을 가봐요\"))"
   ]
  },
  {
   "cell_type": "markdown",
   "id": "c012ea14",
   "metadata": {},
   "source": [
    "[링크](https://data-scientist-brian-kim.tistory.com/79)"
   ]
  },
  {
   "cell_type": "code",
   "execution_count": 5,
   "id": "c32e546b",
   "metadata": {},
   "outputs": [
    {
     "name": "stdout",
     "output_type": "stream",
     "text": [
      "3.9.12 (main, Apr  4 2022, 05:22:27) [MSC v.1916 64 bit (AMD64)]\n"
     ]
    }
   ],
   "source": [
    "import sys\n",
    "\n",
    " \n",
    "\n",
    "print(sys.version)"
   ]
  },
  {
   "cell_type": "code",
   "execution_count": 1,
   "id": "34c0fe36",
   "metadata": {},
   "outputs": [],
   "source": [
    "import konlpy"
   ]
  },
  {
   "cell_type": "code",
   "execution_count": null,
   "id": "fb99093d",
   "metadata": {},
   "outputs": [],
   "source": []
>>>>>>> Stashed changes:NLP/NLP Natural Language Processing 공부.ipynb
  }
 ],
 "metadata": {
  "kernelspec": {
   "display_name": "Python 3 (ipykernel)",
   "language": "python",
   "name": "python3"
  },
  "language_info": {
   "codemirror_mode": {
    "name": "ipython",
    "version": 3
   },
   "file_extension": ".py",
   "mimetype": "text/x-python",
   "name": "python",
   "nbconvert_exporter": "python",
   "pygments_lexer": "ipython3",
   "version": "3.9.12"
  }
 },
 "nbformat": 4,
 "nbformat_minor": 5
}
